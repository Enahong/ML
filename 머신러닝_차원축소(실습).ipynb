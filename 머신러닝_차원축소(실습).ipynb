{
 "cells": [
  {
   "cell_type": "markdown",
   "metadata": {},
   "source": [
    "# 필요 라이브러리 불러오기"
   ]
  },
  {
   "cell_type": "code",
   "execution_count": 3,
   "metadata": {},
   "outputs": [],
   "source": [
    "import pandas as pd\n",
    "import seaborn as sns\n",
    "import matplotlib.pyplot as plt"
   ]
  },
  {
   "cell_type": "code",
   "execution_count": 5,
   "metadata": {},
   "outputs": [],
   "source": [
    "## 분석을 할 데이터를 불러와 봅시다.\n",
    "data = pd.read_csv('./data/boston.csv')"
   ]
  },
  {
   "cell_type": "code",
   "execution_count": 6,
   "metadata": {
    "scrolled": true
   },
   "outputs": [
    {
     "data": {
      "text/html": [
       "<div>\n",
       "<style scoped>\n",
       "    .dataframe tbody tr th:only-of-type {\n",
       "        vertical-align: middle;\n",
       "    }\n",
       "\n",
       "    .dataframe tbody tr th {\n",
       "        vertical-align: top;\n",
       "    }\n",
       "\n",
       "    .dataframe thead th {\n",
       "        text-align: right;\n",
       "    }\n",
       "</style>\n",
       "<table border=\"1\" class=\"dataframe\">\n",
       "  <thead>\n",
       "    <tr style=\"text-align: right;\">\n",
       "      <th></th>\n",
       "      <th>crim</th>\n",
       "      <th>zn</th>\n",
       "      <th>indus</th>\n",
       "      <th>chas</th>\n",
       "      <th>nox</th>\n",
       "      <th>rm</th>\n",
       "      <th>age</th>\n",
       "      <th>dis</th>\n",
       "      <th>rad</th>\n",
       "      <th>tax</th>\n",
       "      <th>ptratio</th>\n",
       "      <th>b</th>\n",
       "      <th>lstat</th>\n",
       "      <th>medv</th>\n",
       "    </tr>\n",
       "  </thead>\n",
       "  <tbody>\n",
       "    <tr>\n",
       "      <th>0</th>\n",
       "      <td>0.00632</td>\n",
       "      <td>18.0</td>\n",
       "      <td>2.31</td>\n",
       "      <td>0.0</td>\n",
       "      <td>0.538</td>\n",
       "      <td>6.575</td>\n",
       "      <td>65.2</td>\n",
       "      <td>4.0900</td>\n",
       "      <td>1.0</td>\n",
       "      <td>296.0</td>\n",
       "      <td>15.3</td>\n",
       "      <td>396.90</td>\n",
       "      <td>4.98</td>\n",
       "      <td>24.0</td>\n",
       "    </tr>\n",
       "    <tr>\n",
       "      <th>1</th>\n",
       "      <td>0.02731</td>\n",
       "      <td>0.0</td>\n",
       "      <td>7.07</td>\n",
       "      <td>0.0</td>\n",
       "      <td>0.469</td>\n",
       "      <td>6.421</td>\n",
       "      <td>78.9</td>\n",
       "      <td>4.9671</td>\n",
       "      <td>2.0</td>\n",
       "      <td>242.0</td>\n",
       "      <td>17.8</td>\n",
       "      <td>396.90</td>\n",
       "      <td>9.14</td>\n",
       "      <td>21.6</td>\n",
       "    </tr>\n",
       "    <tr>\n",
       "      <th>2</th>\n",
       "      <td>0.02729</td>\n",
       "      <td>0.0</td>\n",
       "      <td>7.07</td>\n",
       "      <td>0.0</td>\n",
       "      <td>0.469</td>\n",
       "      <td>7.185</td>\n",
       "      <td>61.1</td>\n",
       "      <td>4.9671</td>\n",
       "      <td>2.0</td>\n",
       "      <td>242.0</td>\n",
       "      <td>17.8</td>\n",
       "      <td>392.83</td>\n",
       "      <td>4.03</td>\n",
       "      <td>34.7</td>\n",
       "    </tr>\n",
       "    <tr>\n",
       "      <th>3</th>\n",
       "      <td>0.03237</td>\n",
       "      <td>0.0</td>\n",
       "      <td>2.18</td>\n",
       "      <td>0.0</td>\n",
       "      <td>0.458</td>\n",
       "      <td>6.998</td>\n",
       "      <td>45.8</td>\n",
       "      <td>6.0622</td>\n",
       "      <td>3.0</td>\n",
       "      <td>222.0</td>\n",
       "      <td>18.7</td>\n",
       "      <td>394.63</td>\n",
       "      <td>2.94</td>\n",
       "      <td>33.4</td>\n",
       "    </tr>\n",
       "    <tr>\n",
       "      <th>4</th>\n",
       "      <td>0.06905</td>\n",
       "      <td>0.0</td>\n",
       "      <td>2.18</td>\n",
       "      <td>0.0</td>\n",
       "      <td>0.458</td>\n",
       "      <td>7.147</td>\n",
       "      <td>54.2</td>\n",
       "      <td>6.0622</td>\n",
       "      <td>3.0</td>\n",
       "      <td>222.0</td>\n",
       "      <td>18.7</td>\n",
       "      <td>396.90</td>\n",
       "      <td>5.33</td>\n",
       "      <td>36.2</td>\n",
       "    </tr>\n",
       "  </tbody>\n",
       "</table>\n",
       "</div>"
      ],
      "text/plain": [
       "      crim    zn  indus  chas    nox     rm   age     dis  rad    tax  \\\n",
       "0  0.00632  18.0   2.31   0.0  0.538  6.575  65.2  4.0900  1.0  296.0   \n",
       "1  0.02731   0.0   7.07   0.0  0.469  6.421  78.9  4.9671  2.0  242.0   \n",
       "2  0.02729   0.0   7.07   0.0  0.469  7.185  61.1  4.9671  2.0  242.0   \n",
       "3  0.03237   0.0   2.18   0.0  0.458  6.998  45.8  6.0622  3.0  222.0   \n",
       "4  0.06905   0.0   2.18   0.0  0.458  7.147  54.2  6.0622  3.0  222.0   \n",
       "\n",
       "   ptratio       b  lstat  medv  \n",
       "0     15.3  396.90   4.98  24.0  \n",
       "1     17.8  396.90   9.14  21.6  \n",
       "2     17.8  392.83   4.03  34.7  \n",
       "3     18.7  394.63   2.94  33.4  \n",
       "4     18.7  396.90   5.33  36.2  "
      ]
     },
     "execution_count": 6,
     "metadata": {},
     "output_type": "execute_result"
    }
   ],
   "source": [
    "# 데이터를 확인할 때에는 상위 5개의 row를 추출하여 보여주는 head함수를 사용합시다.\n",
    "data.head()"
   ]
  },
  {
   "cell_type": "markdown",
   "metadata": {},
   "source": [
    "## 데이터 설명\n",
    "\n",
    "- crim: 범죄율\n",
    "- zn: 25,000 평방피트를 초과 거주지역 비율\n",
    "- indus: 비소매상업지역 면적 비율\n",
    "- chas: 찰스강의 경계에 위치한 경우는 1, 아니면 0\n",
    "- nox: 일산화질소 농도\n",
    "- rm: 주택당 방 수\n",
    "- age: 1940년 이전에 건축된 주택의 비율\n",
    "- dis: 직업센터의 거리\n",
    "- rad: 방사형 고속도로까지의 거리\n",
    "- tax: 재산세율\n",
    "- ptratio: 학생/교사 비율\n",
    "- b: 인구 중 흑인 비율\n",
    "- lstat: 인구 중 하위 계층 비율\n",
    "- medv : 보스턴 506개 타운의 1978년 주택 가격 중앙값 (단위 1,000 달러)"
   ]
  },
  {
   "cell_type": "markdown",
   "metadata": {},
   "source": [
    "# Feature Selection\n",
    "\n",
    "`상관계수`와 `공분산`을 바탕으로 피처를 선택하여 봅시다.\n",
    "\n",
    "## 가설1 - 범죄율이 높은 곳의 집 값은 낮을까?\n",
    "\n",
    "일반적인 상식으로는 범죄율이 높다면, 집 값은 낮아야하는게 사실입니다. 하지만 데이터를 살펴보았을 때 일반적인 상식과 다른 경우가 나오는 데이터가 있을 수 있으므로 꼭 실제 데이터로 그래프를 그려본 뒤 가설을 확인해보는것이 중요합니다."
   ]
  },
  {
   "cell_type": "code",
   "execution_count": 7,
   "metadata": {},
   "outputs": [],
   "source": [
    "# 먼저, 상관계수와 공분산은 연속형자료를 분석하기 때문에 범주형변수를 제거합니다.\n",
    "del data['chas']\n",
    "del data['rad']"
   ]
  },
  {
   "cell_type": "code",
   "execution_count": 8,
   "metadata": {},
   "outputs": [
    {
     "data": {
      "text/html": [
       "<div>\n",
       "<style scoped>\n",
       "    .dataframe tbody tr th:only-of-type {\n",
       "        vertical-align: middle;\n",
       "    }\n",
       "\n",
       "    .dataframe tbody tr th {\n",
       "        vertical-align: top;\n",
       "    }\n",
       "\n",
       "    .dataframe thead th {\n",
       "        text-align: right;\n",
       "    }\n",
       "</style>\n",
       "<table border=\"1\" class=\"dataframe\">\n",
       "  <thead>\n",
       "    <tr style=\"text-align: right;\">\n",
       "      <th></th>\n",
       "      <th>crim</th>\n",
       "      <th>zn</th>\n",
       "      <th>indus</th>\n",
       "      <th>nox</th>\n",
       "      <th>rm</th>\n",
       "      <th>age</th>\n",
       "      <th>dis</th>\n",
       "      <th>tax</th>\n",
       "      <th>ptratio</th>\n",
       "      <th>b</th>\n",
       "      <th>lstat</th>\n",
       "      <th>medv</th>\n",
       "    </tr>\n",
       "  </thead>\n",
       "  <tbody>\n",
       "    <tr>\n",
       "      <th>0</th>\n",
       "      <td>0.00632</td>\n",
       "      <td>18.0</td>\n",
       "      <td>2.31</td>\n",
       "      <td>0.538</td>\n",
       "      <td>6.575</td>\n",
       "      <td>65.2</td>\n",
       "      <td>4.0900</td>\n",
       "      <td>296.0</td>\n",
       "      <td>15.3</td>\n",
       "      <td>396.90</td>\n",
       "      <td>4.98</td>\n",
       "      <td>24.0</td>\n",
       "    </tr>\n",
       "    <tr>\n",
       "      <th>1</th>\n",
       "      <td>0.02731</td>\n",
       "      <td>0.0</td>\n",
       "      <td>7.07</td>\n",
       "      <td>0.469</td>\n",
       "      <td>6.421</td>\n",
       "      <td>78.9</td>\n",
       "      <td>4.9671</td>\n",
       "      <td>242.0</td>\n",
       "      <td>17.8</td>\n",
       "      <td>396.90</td>\n",
       "      <td>9.14</td>\n",
       "      <td>21.6</td>\n",
       "    </tr>\n",
       "    <tr>\n",
       "      <th>2</th>\n",
       "      <td>0.02729</td>\n",
       "      <td>0.0</td>\n",
       "      <td>7.07</td>\n",
       "      <td>0.469</td>\n",
       "      <td>7.185</td>\n",
       "      <td>61.1</td>\n",
       "      <td>4.9671</td>\n",
       "      <td>242.0</td>\n",
       "      <td>17.8</td>\n",
       "      <td>392.83</td>\n",
       "      <td>4.03</td>\n",
       "      <td>34.7</td>\n",
       "    </tr>\n",
       "    <tr>\n",
       "      <th>3</th>\n",
       "      <td>0.03237</td>\n",
       "      <td>0.0</td>\n",
       "      <td>2.18</td>\n",
       "      <td>0.458</td>\n",
       "      <td>6.998</td>\n",
       "      <td>45.8</td>\n",
       "      <td>6.0622</td>\n",
       "      <td>222.0</td>\n",
       "      <td>18.7</td>\n",
       "      <td>394.63</td>\n",
       "      <td>2.94</td>\n",
       "      <td>33.4</td>\n",
       "    </tr>\n",
       "    <tr>\n",
       "      <th>4</th>\n",
       "      <td>0.06905</td>\n",
       "      <td>0.0</td>\n",
       "      <td>2.18</td>\n",
       "      <td>0.458</td>\n",
       "      <td>7.147</td>\n",
       "      <td>54.2</td>\n",
       "      <td>6.0622</td>\n",
       "      <td>222.0</td>\n",
       "      <td>18.7</td>\n",
       "      <td>396.90</td>\n",
       "      <td>5.33</td>\n",
       "      <td>36.2</td>\n",
       "    </tr>\n",
       "  </tbody>\n",
       "</table>\n",
       "</div>"
      ],
      "text/plain": [
       "      crim    zn  indus    nox     rm   age     dis    tax  ptratio       b  \\\n",
       "0  0.00632  18.0   2.31  0.538  6.575  65.2  4.0900  296.0     15.3  396.90   \n",
       "1  0.02731   0.0   7.07  0.469  6.421  78.9  4.9671  242.0     17.8  396.90   \n",
       "2  0.02729   0.0   7.07  0.469  7.185  61.1  4.9671  242.0     17.8  392.83   \n",
       "3  0.03237   0.0   2.18  0.458  6.998  45.8  6.0622  222.0     18.7  394.63   \n",
       "4  0.06905   0.0   2.18  0.458  7.147  54.2  6.0622  222.0     18.7  396.90   \n",
       "\n",
       "   lstat  medv  \n",
       "0   4.98  24.0  \n",
       "1   9.14  21.6  \n",
       "2   4.03  34.7  \n",
       "3   2.94  33.4  \n",
       "4   5.33  36.2  "
      ]
     },
     "execution_count": 8,
     "metadata": {},
     "output_type": "execute_result"
    }
   ],
   "source": [
    "data.head()"
   ]
  },
  {
   "cell_type": "code",
   "execution_count": 10,
   "metadata": {},
   "outputs": [
    {
     "data": {
      "text/plain": [
       "<seaborn.axisgrid.JointGrid at 0x1fbdcacd850>"
      ]
     },
     "execution_count": 10,
     "metadata": {},
     "output_type": "execute_result"
    },
    {
     "data": {
      "image/png": "[encoded data removed]",
      "text/plain": [
       "<Figure size 432x432 with 3 Axes>"
      ]
     },
     "metadata": {
      "needs_background": "light"
     },
     "output_type": "display_data"
    }
   ],
   "source": [
    "# 실제 집 값과 범죄율의 상관관계가 있는지 그래프를 통해 살펴봅시다.\n",
    "\n",
    "sns.jointplot(data= data, x='crim', y='medv', kind='reg')"
   ]
  },
  {
   "cell_type": "markdown",
   "metadata": {},
   "source": [
    "#### `x.cov(y)`\n",
    "\n",
    "- 공분산을 확인하기 위한 함수입니다.\n",
    "- x와 y에 같은 시리즈형의 데이터를 대입합니다.\n",
    "- df.cov()처럼 데이터프레임을 x에 넣고 y자리에 아무것도 적지 않으면 각 변수별로 공분산을 계산하여 줍니다."
   ]
  },
  {
   "cell_type": "code",
   "execution_count": 11,
   "metadata": {},
   "outputs": [
    {
     "data": {
      "text/html": [
       "<div>\n",
       "<style scoped>\n",
       "    .dataframe tbody tr th:only-of-type {\n",
       "        vertical-align: middle;\n",
       "    }\n",
       "\n",
       "    .dataframe tbody tr th {\n",
       "        vertical-align: top;\n",
       "    }\n",
       "\n",
       "    .dataframe thead th {\n",
       "        text-align: right;\n",
       "    }\n",
       "</style>\n",
       "<table border=\"1\" class=\"dataframe\">\n",
       "  <thead>\n",
       "    <tr style=\"text-align: right;\">\n",
       "      <th></th>\n",
       "      <th>crim</th>\n",
       "      <th>zn</th>\n",
       "      <th>indus</th>\n",
       "      <th>nox</th>\n",
       "      <th>rm</th>\n",
       "      <th>age</th>\n",
       "      <th>dis</th>\n",
       "      <th>tax</th>\n",
       "      <th>ptratio</th>\n",
       "      <th>b</th>\n",
       "      <th>lstat</th>\n",
       "      <th>medv</th>\n",
       "    </tr>\n",
       "  </thead>\n",
       "  <tbody>\n",
       "    <tr>\n",
       "      <th>crim</th>\n",
       "      <td>73.986578</td>\n",
       "      <td>-40.215956</td>\n",
       "      <td>23.992339</td>\n",
       "      <td>0.419594</td>\n",
       "      <td>-1.325038</td>\n",
       "      <td>85.405322</td>\n",
       "      <td>-6.876722</td>\n",
       "      <td>844.821538</td>\n",
       "      <td>5.399331</td>\n",
       "      <td>-302.381816</td>\n",
       "      <td>27.986168</td>\n",
       "      <td>-30.718508</td>\n",
       "    </tr>\n",
       "    <tr>\n",
       "      <th>zn</th>\n",
       "      <td>-40.215956</td>\n",
       "      <td>543.936814</td>\n",
       "      <td>-85.412648</td>\n",
       "      <td>-1.396148</td>\n",
       "      <td>5.112513</td>\n",
       "      <td>-373.901548</td>\n",
       "      <td>32.629304</td>\n",
       "      <td>-1236.453735</td>\n",
       "      <td>-19.776571</td>\n",
       "      <td>373.721402</td>\n",
       "      <td>-68.783037</td>\n",
       "      <td>77.315176</td>\n",
       "    </tr>\n",
       "    <tr>\n",
       "      <th>indus</th>\n",
       "      <td>23.992339</td>\n",
       "      <td>-85.412648</td>\n",
       "      <td>47.064442</td>\n",
       "      <td>0.607074</td>\n",
       "      <td>-1.887957</td>\n",
       "      <td>124.513903</td>\n",
       "      <td>-10.228097</td>\n",
       "      <td>833.360290</td>\n",
       "      <td>5.692104</td>\n",
       "      <td>-223.579756</td>\n",
       "      <td>29.580270</td>\n",
       "      <td>-30.520823</td>\n",
       "    </tr>\n",
       "    <tr>\n",
       "      <th>nox</th>\n",
       "      <td>0.419594</td>\n",
       "      <td>-1.396148</td>\n",
       "      <td>0.607074</td>\n",
       "      <td>0.013428</td>\n",
       "      <td>-0.024603</td>\n",
       "      <td>2.385927</td>\n",
       "      <td>-0.187696</td>\n",
       "      <td>13.046286</td>\n",
       "      <td>0.047397</td>\n",
       "      <td>-4.020570</td>\n",
       "      <td>0.488946</td>\n",
       "      <td>-0.455412</td>\n",
       "    </tr>\n",
       "    <tr>\n",
       "      <th>rm</th>\n",
       "      <td>-1.325038</td>\n",
       "      <td>5.112513</td>\n",
       "      <td>-1.887957</td>\n",
       "      <td>-0.024603</td>\n",
       "      <td>0.493671</td>\n",
       "      <td>-4.751929</td>\n",
       "      <td>0.303663</td>\n",
       "      <td>-34.583448</td>\n",
       "      <td>-0.540763</td>\n",
       "      <td>8.215006</td>\n",
       "      <td>-3.079741</td>\n",
       "      <td>4.493446</td>\n",
       "    </tr>\n",
       "    <tr>\n",
       "      <th>age</th>\n",
       "      <td>85.405322</td>\n",
       "      <td>-373.901548</td>\n",
       "      <td>124.513903</td>\n",
       "      <td>2.385927</td>\n",
       "      <td>-4.751929</td>\n",
       "      <td>792.358399</td>\n",
       "      <td>-44.329379</td>\n",
       "      <td>2402.690122</td>\n",
       "      <td>15.936921</td>\n",
       "      <td>-702.940328</td>\n",
       "      <td>121.077725</td>\n",
       "      <td>-97.589017</td>\n",
       "    </tr>\n",
       "    <tr>\n",
       "      <th>dis</th>\n",
       "      <td>-6.876722</td>\n",
       "      <td>32.629304</td>\n",
       "      <td>-10.228097</td>\n",
       "      <td>-0.187696</td>\n",
       "      <td>0.303663</td>\n",
       "      <td>-44.329379</td>\n",
       "      <td>4.434015</td>\n",
       "      <td>-189.664592</td>\n",
       "      <td>-1.059775</td>\n",
       "      <td>56.040356</td>\n",
       "      <td>-7.473329</td>\n",
       "      <td>4.840229</td>\n",
       "    </tr>\n",
       "    <tr>\n",
       "      <th>tax</th>\n",
       "      <td>844.821538</td>\n",
       "      <td>-1236.453735</td>\n",
       "      <td>833.360290</td>\n",
       "      <td>13.046286</td>\n",
       "      <td>-34.583448</td>\n",
       "      <td>2402.690122</td>\n",
       "      <td>-189.664592</td>\n",
       "      <td>28404.759488</td>\n",
       "      <td>168.153141</td>\n",
       "      <td>-6797.911215</td>\n",
       "      <td>654.714520</td>\n",
       "      <td>-726.255716</td>\n",
       "    </tr>\n",
       "    <tr>\n",
       "      <th>ptratio</th>\n",
       "      <td>5.399331</td>\n",
       "      <td>-19.776571</td>\n",
       "      <td>5.692104</td>\n",
       "      <td>0.047397</td>\n",
       "      <td>-0.540763</td>\n",
       "      <td>15.936921</td>\n",
       "      <td>-1.059775</td>\n",
       "      <td>168.153141</td>\n",
       "      <td>4.686989</td>\n",
       "      <td>-35.059527</td>\n",
       "      <td>5.782729</td>\n",
       "      <td>-10.110657</td>\n",
       "    </tr>\n",
       "    <tr>\n",
       "      <th>b</th>\n",
       "      <td>-302.381816</td>\n",
       "      <td>373.721402</td>\n",
       "      <td>-223.579756</td>\n",
       "      <td>-4.020570</td>\n",
       "      <td>8.215006</td>\n",
       "      <td>-702.940328</td>\n",
       "      <td>56.040356</td>\n",
       "      <td>-6797.911215</td>\n",
       "      <td>-35.059527</td>\n",
       "      <td>8334.752263</td>\n",
       "      <td>-238.667516</td>\n",
       "      <td>279.989834</td>\n",
       "    </tr>\n",
       "    <tr>\n",
       "      <th>lstat</th>\n",
       "      <td>27.986168</td>\n",
       "      <td>-68.783037</td>\n",
       "      <td>29.580270</td>\n",
       "      <td>0.488946</td>\n",
       "      <td>-3.079741</td>\n",
       "      <td>121.077725</td>\n",
       "      <td>-7.473329</td>\n",
       "      <td>654.714520</td>\n",
       "      <td>5.782729</td>\n",
       "      <td>-238.667516</td>\n",
       "      <td>50.994760</td>\n",
       "      <td>-48.447538</td>\n",
       "    </tr>\n",
       "    <tr>\n",
       "      <th>medv</th>\n",
       "      <td>-30.718508</td>\n",
       "      <td>77.315176</td>\n",
       "      <td>-30.520823</td>\n",
       "      <td>-0.455412</td>\n",
       "      <td>4.493446</td>\n",
       "      <td>-97.589017</td>\n",
       "      <td>4.840229</td>\n",
       "      <td>-726.255716</td>\n",
       "      <td>-10.110657</td>\n",
       "      <td>279.989834</td>\n",
       "      <td>-48.447538</td>\n",
       "      <td>84.586724</td>\n",
       "    </tr>\n",
       "  </tbody>\n",
       "</table>\n",
       "</div>"
      ],
      "text/plain": [
       "               crim           zn       indus        nox         rm  \\\n",
       "crim      73.986578   -40.215956   23.992339   0.419594  -1.325038   \n",
       "zn       -40.215956   543.936814  -85.412648  -1.396148   5.112513   \n",
       "indus     23.992339   -85.412648   47.064442   0.607074  -1.887957   \n",
       "nox        0.419594    -1.396148    0.607074   0.013428  -0.024603   \n",
       "rm        -1.325038     5.112513   -1.887957  -0.024603   0.493671   \n",
       "age       85.405322  -373.901548  124.513903   2.385927  -4.751929   \n",
       "dis       -6.876722    32.629304  -10.228097  -0.187696   0.303663   \n",
       "tax      844.821538 -1236.453735  833.360290  13.046286 -34.583448   \n",
       "ptratio    5.399331   -19.776571    5.692104   0.047397  -0.540763   \n",
       "b       -302.381816   373.721402 -223.579756  -4.020570   8.215006   \n",
       "lstat     27.986168   -68.783037   29.580270   0.488946  -3.079741   \n",
       "medv     -30.718508    77.315176  -30.520823  -0.455412   4.493446   \n",
       "\n",
       "                 age         dis           tax     ptratio            b  \\\n",
       "crim       85.405322   -6.876722    844.821538    5.399331  -302.381816   \n",
       "zn       -373.901548   32.629304  -1236.453735  -19.776571   373.721402   \n",
       "indus     124.513903  -10.228097    833.360290    5.692104  -223.579756   \n",
       "nox         2.385927   -0.187696     13.046286    0.047397    -4.020570   \n",
       "rm         -4.751929    0.303663    -34.583448   -0.540763     8.215006   \n",
       "age       792.358399  -44.329379   2402.690122   15.936921  -702.940328   \n",
       "dis       -44.329379    4.434015   -189.664592   -1.059775    56.040356   \n",
       "tax      2402.690122 -189.664592  28404.759488  168.153141 -6797.911215   \n",
       "ptratio    15.936921   -1.059775    168.153141    4.686989   -35.059527   \n",
       "b        -702.940328   56.040356  -6797.911215  -35.059527  8334.752263   \n",
       "lstat     121.077725   -7.473329    654.714520    5.782729  -238.667516   \n",
       "medv      -97.589017    4.840229   -726.255716  -10.110657   279.989834   \n",
       "\n",
       "              lstat        medv  \n",
       "crim      27.986168  -30.718508  \n",
       "zn       -68.783037   77.315176  \n",
       "indus     29.580270  -30.520823  \n",
       "nox        0.488946   -0.455412  \n",
       "rm        -3.079741    4.493446  \n",
       "age      121.077725  -97.589017  \n",
       "dis       -7.473329    4.840229  \n",
       "tax      654.714520 -726.255716  \n",
       "ptratio    5.782729  -10.110657  \n",
       "b       -238.667516  279.989834  \n",
       "lstat     50.994760  -48.447538  \n",
       "medv     -48.447538   84.586724  "
      ]
     },
     "execution_count": 11,
     "metadata": {},
     "output_type": "execute_result"
    }
   ],
   "source": [
    "data.cov()"
   ]
  },
  {
   "cell_type": "code",
   "execution_count": 12,
   "metadata": {},
   "outputs": [
    {
     "data": {
      "text/plain": [
       "-30.71850796445817"
      ]
     },
     "execution_count": 12,
     "metadata": {},
     "output_type": "execute_result"
    }
   ],
   "source": [
    "# 실제 범죄율과 집 값의 공분산을 확인해봅시다.\n",
    "data['crim'].cov(data['medv'])\n",
    "\n",
    "# 서로 음의 방향이구나 \n",
    "# 상관성을 확인하려면 상관계수를 확인해야 한다."
   ]
  },
  {
   "cell_type": "markdown",
   "metadata": {},
   "source": [
    "#### `x.corr(y)`\n",
    "\n",
    "- 상관계수를 확인하기 위한 함수입니다.\n",
    "- x와 y에 같은 시리즈형의 데이터를 대입합니다.\n",
    "- df.corr()처럼 데이터프레임을 x에 넣고 y자리에 아무것도 적지 않으면 각 변수별로 상관계수을 계산하여 줍니다."
   ]
  },
  {
   "cell_type": "code",
   "execution_count": 13,
   "metadata": {},
   "outputs": [
    {
     "data": {
      "text/html": [
       "<div>\n",
       "<style scoped>\n",
       "    .dataframe tbody tr th:only-of-type {\n",
       "        vertical-align: middle;\n",
       "    }\n",
       "\n",
       "    .dataframe tbody tr th {\n",
       "        vertical-align: top;\n",
       "    }\n",
       "\n",
       "    .dataframe thead th {\n",
       "        text-align: right;\n",
       "    }\n",
       "</style>\n",
       "<table border=\"1\" class=\"dataframe\">\n",
       "  <thead>\n",
       "    <tr style=\"text-align: right;\">\n",
       "      <th></th>\n",
       "      <th>crim</th>\n",
       "      <th>zn</th>\n",
       "      <th>indus</th>\n",
       "      <th>nox</th>\n",
       "      <th>rm</th>\n",
       "      <th>age</th>\n",
       "      <th>dis</th>\n",
       "      <th>tax</th>\n",
       "      <th>ptratio</th>\n",
       "      <th>b</th>\n",
       "      <th>lstat</th>\n",
       "      <th>medv</th>\n",
       "    </tr>\n",
       "  </thead>\n",
       "  <tbody>\n",
       "    <tr>\n",
       "      <th>crim</th>\n",
       "      <td>1.000000</td>\n",
       "      <td>-0.200469</td>\n",
       "      <td>0.406583</td>\n",
       "      <td>0.420972</td>\n",
       "      <td>-0.219247</td>\n",
       "      <td>0.352734</td>\n",
       "      <td>-0.379670</td>\n",
       "      <td>0.582764</td>\n",
       "      <td>0.289946</td>\n",
       "      <td>-0.385064</td>\n",
       "      <td>0.455621</td>\n",
       "      <td>-0.388305</td>\n",
       "    </tr>\n",
       "    <tr>\n",
       "      <th>zn</th>\n",
       "      <td>-0.200469</td>\n",
       "      <td>1.000000</td>\n",
       "      <td>-0.533828</td>\n",
       "      <td>-0.516604</td>\n",
       "      <td>0.311991</td>\n",
       "      <td>-0.569537</td>\n",
       "      <td>0.664408</td>\n",
       "      <td>-0.314563</td>\n",
       "      <td>-0.391679</td>\n",
       "      <td>0.175520</td>\n",
       "      <td>-0.412995</td>\n",
       "      <td>0.360445</td>\n",
       "    </tr>\n",
       "    <tr>\n",
       "      <th>indus</th>\n",
       "      <td>0.406583</td>\n",
       "      <td>-0.533828</td>\n",
       "      <td>1.000000</td>\n",
       "      <td>0.763651</td>\n",
       "      <td>-0.391676</td>\n",
       "      <td>0.644779</td>\n",
       "      <td>-0.708027</td>\n",
       "      <td>0.720760</td>\n",
       "      <td>0.383248</td>\n",
       "      <td>-0.356977</td>\n",
       "      <td>0.603800</td>\n",
       "      <td>-0.483725</td>\n",
       "    </tr>\n",
       "    <tr>\n",
       "      <th>nox</th>\n",
       "      <td>0.420972</td>\n",
       "      <td>-0.516604</td>\n",
       "      <td>0.763651</td>\n",
       "      <td>1.000000</td>\n",
       "      <td>-0.302188</td>\n",
       "      <td>0.731470</td>\n",
       "      <td>-0.769230</td>\n",
       "      <td>0.668023</td>\n",
       "      <td>0.188933</td>\n",
       "      <td>-0.380051</td>\n",
       "      <td>0.590879</td>\n",
       "      <td>-0.427321</td>\n",
       "    </tr>\n",
       "    <tr>\n",
       "      <th>rm</th>\n",
       "      <td>-0.219247</td>\n",
       "      <td>0.311991</td>\n",
       "      <td>-0.391676</td>\n",
       "      <td>-0.302188</td>\n",
       "      <td>1.000000</td>\n",
       "      <td>-0.240265</td>\n",
       "      <td>0.205246</td>\n",
       "      <td>-0.292048</td>\n",
       "      <td>-0.355501</td>\n",
       "      <td>0.128069</td>\n",
       "      <td>-0.613808</td>\n",
       "      <td>0.695360</td>\n",
       "    </tr>\n",
       "    <tr>\n",
       "      <th>age</th>\n",
       "      <td>0.352734</td>\n",
       "      <td>-0.569537</td>\n",
       "      <td>0.644779</td>\n",
       "      <td>0.731470</td>\n",
       "      <td>-0.240265</td>\n",
       "      <td>1.000000</td>\n",
       "      <td>-0.747881</td>\n",
       "      <td>0.506456</td>\n",
       "      <td>0.261515</td>\n",
       "      <td>-0.273534</td>\n",
       "      <td>0.602339</td>\n",
       "      <td>-0.376955</td>\n",
       "    </tr>\n",
       "    <tr>\n",
       "      <th>dis</th>\n",
       "      <td>-0.379670</td>\n",
       "      <td>0.664408</td>\n",
       "      <td>-0.708027</td>\n",
       "      <td>-0.769230</td>\n",
       "      <td>0.205246</td>\n",
       "      <td>-0.747881</td>\n",
       "      <td>1.000000</td>\n",
       "      <td>-0.534432</td>\n",
       "      <td>-0.232471</td>\n",
       "      <td>0.291512</td>\n",
       "      <td>-0.496996</td>\n",
       "      <td>0.249929</td>\n",
       "    </tr>\n",
       "    <tr>\n",
       "      <th>tax</th>\n",
       "      <td>0.582764</td>\n",
       "      <td>-0.314563</td>\n",
       "      <td>0.720760</td>\n",
       "      <td>0.668023</td>\n",
       "      <td>-0.292048</td>\n",
       "      <td>0.506456</td>\n",
       "      <td>-0.534432</td>\n",
       "      <td>1.000000</td>\n",
       "      <td>0.460853</td>\n",
       "      <td>-0.441808</td>\n",
       "      <td>0.543993</td>\n",
       "      <td>-0.468536</td>\n",
       "    </tr>\n",
       "    <tr>\n",
       "      <th>ptratio</th>\n",
       "      <td>0.289946</td>\n",
       "      <td>-0.391679</td>\n",
       "      <td>0.383248</td>\n",
       "      <td>0.188933</td>\n",
       "      <td>-0.355501</td>\n",
       "      <td>0.261515</td>\n",
       "      <td>-0.232471</td>\n",
       "      <td>0.460853</td>\n",
       "      <td>1.000000</td>\n",
       "      <td>-0.177383</td>\n",
       "      <td>0.374044</td>\n",
       "      <td>-0.507787</td>\n",
       "    </tr>\n",
       "    <tr>\n",
       "      <th>b</th>\n",
       "      <td>-0.385064</td>\n",
       "      <td>0.175520</td>\n",
       "      <td>-0.356977</td>\n",
       "      <td>-0.380051</td>\n",
       "      <td>0.128069</td>\n",
       "      <td>-0.273534</td>\n",
       "      <td>0.291512</td>\n",
       "      <td>-0.441808</td>\n",
       "      <td>-0.177383</td>\n",
       "      <td>1.000000</td>\n",
       "      <td>-0.366087</td>\n",
       "      <td>0.333461</td>\n",
       "    </tr>\n",
       "    <tr>\n",
       "      <th>lstat</th>\n",
       "      <td>0.455621</td>\n",
       "      <td>-0.412995</td>\n",
       "      <td>0.603800</td>\n",
       "      <td>0.590879</td>\n",
       "      <td>-0.613808</td>\n",
       "      <td>0.602339</td>\n",
       "      <td>-0.496996</td>\n",
       "      <td>0.543993</td>\n",
       "      <td>0.374044</td>\n",
       "      <td>-0.366087</td>\n",
       "      <td>1.000000</td>\n",
       "      <td>-0.737663</td>\n",
       "    </tr>\n",
       "    <tr>\n",
       "      <th>medv</th>\n",
       "      <td>-0.388305</td>\n",
       "      <td>0.360445</td>\n",
       "      <td>-0.483725</td>\n",
       "      <td>-0.427321</td>\n",
       "      <td>0.695360</td>\n",
       "      <td>-0.376955</td>\n",
       "      <td>0.249929</td>\n",
       "      <td>-0.468536</td>\n",
       "      <td>-0.507787</td>\n",
       "      <td>0.333461</td>\n",
       "      <td>-0.737663</td>\n",
       "      <td>1.000000</td>\n",
       "    </tr>\n",
       "  </tbody>\n",
       "</table>\n",
       "</div>"
      ],
      "text/plain": [
       "             crim        zn     indus       nox        rm       age       dis  \\\n",
       "crim     1.000000 -0.200469  0.406583  0.420972 -0.219247  0.352734 -0.379670   \n",
       "zn      -0.200469  1.000000 -0.533828 -0.516604  0.311991 -0.569537  0.664408   \n",
       "indus    0.406583 -0.533828  1.000000  0.763651 -0.391676  0.644779 -0.708027   \n",
       "nox      0.420972 -0.516604  0.763651  1.000000 -0.302188  0.731470 -0.769230   \n",
       "rm      -0.219247  0.311991 -0.391676 -0.302188  1.000000 -0.240265  0.205246   \n",
       "age      0.352734 -0.569537  0.644779  0.731470 -0.240265  1.000000 -0.747881   \n",
       "dis     -0.379670  0.664408 -0.708027 -0.769230  0.205246 -0.747881  1.000000   \n",
       "tax      0.582764 -0.314563  0.720760  0.668023 -0.292048  0.506456 -0.534432   \n",
       "ptratio  0.289946 -0.391679  0.383248  0.188933 -0.355501  0.261515 -0.232471   \n",
       "b       -0.385064  0.175520 -0.356977 -0.380051  0.128069 -0.273534  0.291512   \n",
       "lstat    0.455621 -0.412995  0.603800  0.590879 -0.613808  0.602339 -0.496996   \n",
       "medv    -0.388305  0.360445 -0.483725 -0.427321  0.695360 -0.376955  0.249929   \n",
       "\n",
       "              tax   ptratio         b     lstat      medv  \n",
       "crim     0.582764  0.289946 -0.385064  0.455621 -0.388305  \n",
       "zn      -0.314563 -0.391679  0.175520 -0.412995  0.360445  \n",
       "indus    0.720760  0.383248 -0.356977  0.603800 -0.483725  \n",
       "nox      0.668023  0.188933 -0.380051  0.590879 -0.427321  \n",
       "rm      -0.292048 -0.355501  0.128069 -0.613808  0.695360  \n",
       "age      0.506456  0.261515 -0.273534  0.602339 -0.376955  \n",
       "dis     -0.534432 -0.232471  0.291512 -0.496996  0.249929  \n",
       "tax      1.000000  0.460853 -0.441808  0.543993 -0.468536  \n",
       "ptratio  0.460853  1.000000 -0.177383  0.374044 -0.507787  \n",
       "b       -0.441808 -0.177383  1.000000 -0.366087  0.333461  \n",
       "lstat    0.543993  0.374044 -0.366087  1.000000 -0.737663  \n",
       "medv    -0.468536 -0.507787  0.333461 -0.737663  1.000000  "
      ]
     },
     "execution_count": 13,
     "metadata": {},
     "output_type": "execute_result"
    }
   ],
   "source": [
    "data.corr()"
   ]
  },
  {
   "cell_type": "code",
   "execution_count": 15,
   "metadata": {},
   "outputs": [
    {
     "data": {
      "text/plain": [
       "-0.3883046085868113"
      ]
     },
     "execution_count": 15,
     "metadata": {},
     "output_type": "execute_result"
    }
   ],
   "source": [
    "# 실제 상관계수가 몇인지도 확인해봅시다.\n",
    "data['crim'].corr(data['medv'])\n",
    "\n",
    "# 0.3~0.6 사이에 있기 때문에 상관성이 있다고 판단할 수 있다.\n",
    "# crim 컬럼은 피처로 셀랙하겠다."
   ]
  },
  {
   "cell_type": "markdown",
   "metadata": {},
   "source": [
    "## 가설2 - 방의 개수가 많은 곳이 집 값이 비쌀까?"
   ]
  },
  {
   "cell_type": "code",
   "execution_count": 16,
   "metadata": {},
   "outputs": [
    {
     "data": {
      "text/plain": [
       "<seaborn.axisgrid.JointGrid at 0x1fbde048cd0>"
      ]
     },
     "execution_count": 16,
     "metadata": {},
     "output_type": "execute_result"
    },
    {
     "data": {
      "image/png": "[encoded data removed]",
      "text/plain": [
       "<Figure size 432x432 with 3 Axes>"
      ]
     },
     "metadata": {
      "needs_background": "light"
     },
     "output_type": "display_data"
    }
   ],
   "source": [
    "# 방의 개수가 늘어날수록 집 값도 늘어나지 않을까?\n",
    "sns.jointplot(data=data, x= 'rm',  y='medv', kind='reg')"
   ]
  },
  {
   "cell_type": "code",
   "execution_count": 17,
   "metadata": {},
   "outputs": [
    {
     "data": {
      "text/plain": [
       "0.6953599470715395"
      ]
     },
     "execution_count": 17,
     "metadata": {},
     "output_type": "execute_result"
    }
   ],
   "source": [
    "# 실제 상관계수가 몇인지도 확인해봅시다.\n",
    "data['rm'].corr(data['medv'])\n",
    "# 상관관계가 있어 보인다."
   ]
  },
  {
   "cell_type": "code",
   "execution_count": 18,
   "metadata": {},
   "outputs": [
    {
     "data": {
      "text/plain": [
       "4.493445879544477"
      ]
     },
     "execution_count": 18,
     "metadata": {},
     "output_type": "execute_result"
    }
   ],
   "source": [
    "# 위와 같이 공분산도 확인해봅시다.\n",
    "data['rm'].cov(data['medv'])"
   ]
  },
  {
   "cell_type": "markdown",
   "metadata": {},
   "source": [
    "## 가설3 - ptratio: 학생/교사 비율이 크면 집값도 비쌀까?"
   ]
  },
  {
   "cell_type": "code",
   "execution_count": 20,
   "metadata": {},
   "outputs": [
    {
     "data": {
      "text/plain": [
       "<seaborn.axisgrid.JointGrid at 0x1fbde2b2820>"
      ]
     },
     "execution_count": 20,
     "metadata": {},
     "output_type": "execute_result"
    },
    {
     "data": {
      "image/png": "[encoded data removed]",
      "text/plain": [
       "<Figure size 432x432 with 3 Axes>"
      ]
     },
     "metadata": {
      "needs_background": "light"
     },
     "output_type": "display_data"
    }
   ],
   "source": [
    "sns.jointplot(data=data, x= 'ptratio', y='medv', kind='reg')"
   ]
  },
  {
   "cell_type": "code",
   "execution_count": 21,
   "metadata": {},
   "outputs": [
    {
     "data": {
      "text/plain": [
       "-0.5077866855375617"
      ]
     },
     "execution_count": 21,
     "metadata": {},
     "output_type": "execute_result"
    }
   ],
   "source": [
    "data['ptratio'].corr(data['medv'])"
   ]
  },
  {
   "cell_type": "code",
   "execution_count": 19,
   "metadata": {},
   "outputs": [],
   "source": [
    "# heatmap으로 확인해 볼 수도 있지만\n",
    "# 피처 하나하나 가설을 세워서 그래프로 그려보는 연습을 하는 것이 좋음"
   ]
  },
  {
   "cell_type": "markdown",
   "metadata": {},
   "source": [
    "#### `sns.heatmap(df, cmap, annot, fmt)`\n",
    "\n",
    "- 앞에서 배운 heatmap의 심화\n",
    "- cmap - 전체적인 색을 지정 (summer /  YlGnBu / RdYlGn_r 등)\n",
    "- annot - True / False 로써 숫자를 표현해줄 것인지 기입\n",
    "- fmt - 숫자의 소숫점 자리수 설정"
   ]
  },
  {
   "cell_type": "code",
   "execution_count": 24,
   "metadata": {},
   "outputs": [
    {
     "data": {
      "text/plain": [
       "<AxesSubplot:>"
      ]
     },
     "execution_count": 24,
     "metadata": {},
     "output_type": "execute_result"
    },
    {
     "data": {
      "image/png": "[encoded data removed]",
      "text/plain": [
       "<Figure size 432x288 with 2 Axes>"
      ]
     },
     "metadata": {
      "needs_background": "light"
     },
     "output_type": "display_data"
    }
   ],
   "source": [
    "sns.heatmap(data=data.corr(), cmap='summer', annot=True, fmt='0.1f')"
   ]
  },
  {
   "cell_type": "markdown",
   "metadata": {},
   "source": [
    "#### `plt.figure(figsize = (가로, 세로))`\n",
    "\n",
    "- 도화지의 크기 설정"
   ]
  },
  {
   "cell_type": "code",
   "execution_count": 25,
   "metadata": {},
   "outputs": [
    {
     "data": {
      "text/plain": [
       "<AxesSubplot:>"
      ]
     },
     "execution_count": 25,
     "metadata": {},
     "output_type": "execute_result"
    },
    {
     "data": {
      "image/png": "[encoded data removed]",
      "text/plain": [
       "<Figure size 1080x576 with 2 Axes>"
      ]
     },
     "metadata": {
      "needs_background": "light"
     },
     "output_type": "display_data"
    }
   ],
   "source": [
    "plt.figure(figsize=(15,8))\n",
    "sns.heatmap(data=data.corr(), cmap='summer', annot=True, fmt='0.1f')"
   ]
  },
  {
   "cell_type": "markdown",
   "metadata": {},
   "source": [
    "# Feature Extraction\n",
    "\n",
    "`PCA`를 이용하여 새로운 변수를 만들어보자.\n",
    "* 상관성이 작은 피처들을 PCA를 통해 합쳐서 상관성 높은 피쳐를 만들 수 있다."
   ]
  },
  {
   "cell_type": "code",
   "execution_count": 34,
   "metadata": {
    "scrolled": true
   },
   "outputs": [
    {
     "name": "stdout",
     "output_type": "stream",
     "text": [
      "crim과 집값의 상관관계 : -0.3883046085868113\n",
      "zn과 집값의 상관관계 : 0.36044534245054277\n",
      "indus과 집값의 상관관계 : -0.4837251600283727\n",
      "nox과 집값의 상관관계 : -0.4273207723732826\n",
      "rm과 집값의 상관관계 : 0.6953599470715395\n",
      "age과 집값의 상관관계 : -0.3769545650045963\n",
      "dis과 집값의 상관관계 : 0.24992873408590388\n",
      "tax과 집값의 상관관계 : -0.468535933567767\n",
      "ptratio과 집값의 상관관계 : -0.5077866855375617\n",
      "b과 집값의 상관관계 : 0.33346081965706653\n",
      "lstat과 집값의 상관관계 : -0.7376627261740147\n",
      "medv과 집값의 상관관계 : 1.0\n"
     ]
    }
   ],
   "source": [
    "# 변수들의 상관계수를 전부 확인하고 몇개의 변수를 몇개로 줄일 것 인지 확인해봅시다.\n",
    "\n",
    "corr_bar=[]\n",
    "\n",
    "for column in data.columns:\n",
    "    print(f'{column}과 집값의 상관관계 :', data[column].corr(data['medv']))\n",
    "    corr_bar.append(abs(data[column].corr(data['medv']))) # 비교를 위해 절대값을 씌워 준다,"
   ]
  },
  {
   "cell_type": "code",
   "execution_count": 35,
   "metadata": {},
   "outputs": [
    {
     "data": {
      "text/plain": [
       "[0.3883046085868113,\n",
       " 0.36044534245054277,\n",
       " 0.4837251600283727,\n",
       " 0.4273207723732826,\n",
       " 0.6953599470715395,\n",
       " 0.3769545650045963,\n",
       " 0.24992873408590388,\n",
       " 0.468535933567767,\n",
       " 0.5077866855375617,\n",
       " 0.33346081965706653,\n",
       " 0.7376627261740147,\n",
       " 1.0]"
      ]
     },
     "execution_count": 35,
     "metadata": {},
     "output_type": "execute_result"
    }
   ],
   "source": [
    "corr_bar"
   ]
  },
  {
   "cell_type": "code",
   "execution_count": 36,
   "metadata": {},
   "outputs": [
    {
     "name": "stderr",
     "output_type": "stream",
     "text": [
      "C:\\ProgramData\\Anaconda3\\anaconda\\lib\\site-packages\\seaborn\\_decorators.py:36: FutureWarning: Pass the following variables as keyword args: x, y. From version 0.12, the only valid positional argument will be `data`, and passing other arguments without an explicit keyword will result in an error or misinterpretation.\n",
      "  warnings.warn(\n"
     ]
    },
    {
     "data": {
      "text/plain": [
       "<AxesSubplot:>"
      ]
     },
     "execution_count": 36,
     "metadata": {},
     "output_type": "execute_result"
    },
    {
     "data": {
      "image/png": "[encoded data removed]",
      "text/plain": [
       "<Figure size 432x288 with 1 Axes>"
      ]
     },
     "metadata": {
      "needs_background": "light"
     },
     "output_type": "display_data"
    }
   ],
   "source": [
    "# 앞서 배운 barplot을 통하여 그래프를 그려봅시다.\n",
    "sns.barplot(data.columns, corr_bar)"
   ]
  },
  {
   "cell_type": "code",
   "execution_count": 37,
   "metadata": {},
   "outputs": [],
   "source": [
    "# 수치형데이터 중에 비교적 상관계수가 낮은 두개의 변수를 선택해봅시다.\n",
    "# -> dis, b 컬럼이 가장 낮은데 이 두 컬럼을 PCA를 통해 합쳐서 상관성 높은 피처를 만들어 보자\n",
    "x= data[['dis', 'b']]"
   ]
  },
  {
   "cell_type": "code",
   "execution_count": 38,
   "metadata": {},
   "outputs": [],
   "source": [
    "# PCA를 위한 라이브러리를 불러옵니다.\n",
    "from sklearn.decomposition import PCA"
   ]
  },
  {
   "cell_type": "markdown",
   "metadata": {},
   "source": [
    "#### `PCA(n_components)`\n",
    "\n",
    "- n_components : 몇가지의 변수를 만들지 개수를 정합니다.\n",
    "- 객체를 생성하는 개념\n",
    "\n",
    "#### `PCA.fit(x)`\n",
    "\n",
    "- x의 데이터를 학습시킴으로써 앞에서 생성한 객체가 데이터를 공부하는 개념\n",
    "\n",
    "#### `PCA.components_`\n",
    "\n",
    "- 앞서 학습한 내용을 바탕으로 만들어진 변수속에 담긴 이 전 변수의 분산이 담김 정도\n",
    "\n",
    "#### `PCA.explained_variance_ratio_`\n",
    "\n",
    "- 새로운 변수가 설명하는 분산의 비율\n",
    "\n",
    "#### `PCA.transform`\n",
    "\n",
    "- 학습한 내용을 바탕으로 만들어진 학습기로 x의 데이터를 변환"
   ]
  },
  {
   "cell_type": "code",
   "execution_count": 39,
   "metadata": {},
   "outputs": [],
   "source": [
    "# 2개의 변수를 조합하여 1개의 변수를 만들어봅시다.\n",
    "\n",
    "pca = PCA(n_components=1)"
   ]
  },
  {
   "cell_type": "code",
   "execution_count": 40,
   "metadata": {},
   "outputs": [
    {
     "data": {
      "text/plain": [
       "PCA(n_components=1)"
      ]
     },
     "execution_count": 40,
     "metadata": {},
     "output_type": "execute_result"
    }
   ],
   "source": [
    "# 데이터를 학습시킵니다.\n",
    "pca.fit(x)"
   ]
  },
  {
   "cell_type": "code",
   "execution_count": 42,
   "metadata": {},
   "outputs": [
    {
     "data": {
      "text/html": [
       "<div>\n",
       "<style scoped>\n",
       "    .dataframe tbody tr th:only-of-type {\n",
       "        vertical-align: middle;\n",
       "    }\n",
       "\n",
       "    .dataframe tbody tr th {\n",
       "        vertical-align: top;\n",
       "    }\n",
       "\n",
       "    .dataframe thead th {\n",
       "        text-align: right;\n",
       "    }\n",
       "</style>\n",
       "<table border=\"1\" class=\"dataframe\">\n",
       "  <thead>\n",
       "    <tr style=\"text-align: right;\">\n",
       "      <th></th>\n",
       "      <th>dis</th>\n",
       "      <th>b</th>\n",
       "    </tr>\n",
       "  </thead>\n",
       "  <tbody>\n",
       "    <tr>\n",
       "      <th>0</th>\n",
       "      <td>4.0900</td>\n",
       "      <td>396.90</td>\n",
       "    </tr>\n",
       "    <tr>\n",
       "      <th>1</th>\n",
       "      <td>4.9671</td>\n",
       "      <td>396.90</td>\n",
       "    </tr>\n",
       "    <tr>\n",
       "      <th>2</th>\n",
       "      <td>4.9671</td>\n",
       "      <td>392.83</td>\n",
       "    </tr>\n",
       "  </tbody>\n",
       "</table>\n",
       "</div>"
      ],
      "text/plain": [
       "      dis       b\n",
       "0  4.0900  396.90\n",
       "1  4.9671  396.90\n",
       "2  4.9671  392.83"
      ]
     },
     "execution_count": 42,
     "metadata": {},
     "output_type": "execute_result"
    }
   ],
   "source": [
    "x.head(3)"
   ]
  },
  {
   "cell_type": "code",
   "execution_count": 41,
   "metadata": {},
   "outputs": [
    {
     "data": {
      "text/plain": [
       "array([[-0.00672682, -0.99997737]])"
      ]
     },
     "execution_count": 41,
     "metadata": {},
     "output_type": "execute_result"
    }
   ],
   "source": [
    "# 새로운 변수에 담긴 각 변수의 분산을 확인할 수 있습니다.\n",
    "# pca.components_ : 앞서 학습한 내용을 바탕으로 만들어진 변수속에 담긴 이 전 변수의 분산이 담김 정도\n",
    "pca.components_\n",
    "\n",
    "# 의미 : 컬럼 b의 비율을 많이 담았다.(99%) -> why? -> 정규화 실습때 설명하겠다."
   ]
  },
  {
   "cell_type": "code",
   "execution_count": 43,
   "metadata": {},
   "outputs": [
    {
     "data": {
      "text/plain": [
       "array([0.9995135])"
      ]
     },
     "execution_count": 43,
     "metadata": {},
     "output_type": "execute_result"
    }
   ],
   "source": [
    "# 새로운 변수 PC1이 설명하는 분산의 비율입니다.\n",
    "pca.explained_variance_ratio_"
   ]
  },
  {
   "cell_type": "code",
   "execution_count": 44,
   "metadata": {},
   "outputs": [],
   "source": [
    "# 새로운 변수를 pc1이라는 컬럼에 추가합시다.\n",
    "\n",
    "data['pc1'] = pca.transform(x)"
   ]
  },
  {
   "cell_type": "code",
   "execution_count": 46,
   "metadata": {},
   "outputs": [
    {
     "data": {
      "text/html": [
       "<div>\n",
       "<style scoped>\n",
       "    .dataframe tbody tr th:only-of-type {\n",
       "        vertical-align: middle;\n",
       "    }\n",
       "\n",
       "    .dataframe tbody tr th {\n",
       "        vertical-align: top;\n",
       "    }\n",
       "\n",
       "    .dataframe thead th {\n",
       "        text-align: right;\n",
       "    }\n",
       "</style>\n",
       "<table border=\"1\" class=\"dataframe\">\n",
       "  <thead>\n",
       "    <tr style=\"text-align: right;\">\n",
       "      <th></th>\n",
       "      <th>crim</th>\n",
       "      <th>zn</th>\n",
       "      <th>indus</th>\n",
       "      <th>nox</th>\n",
       "      <th>rm</th>\n",
       "      <th>age</th>\n",
       "      <th>dis</th>\n",
       "      <th>tax</th>\n",
       "      <th>ptratio</th>\n",
       "      <th>b</th>\n",
       "      <th>lstat</th>\n",
       "      <th>medv</th>\n",
       "      <th>pc1</th>\n",
       "    </tr>\n",
       "  </thead>\n",
       "  <tbody>\n",
       "    <tr>\n",
       "      <th>0</th>\n",
       "      <td>0.00632</td>\n",
       "      <td>18.0</td>\n",
       "      <td>2.31</td>\n",
       "      <td>0.538</td>\n",
       "      <td>6.575</td>\n",
       "      <td>65.2</td>\n",
       "      <td>4.0900</td>\n",
       "      <td>296.0</td>\n",
       "      <td>15.3</td>\n",
       "      <td>396.90</td>\n",
       "      <td>4.98</td>\n",
       "      <td>24.0</td>\n",
       "      <td>-40.227042</td>\n",
       "    </tr>\n",
       "    <tr>\n",
       "      <th>1</th>\n",
       "      <td>0.02731</td>\n",
       "      <td>0.0</td>\n",
       "      <td>7.07</td>\n",
       "      <td>0.469</td>\n",
       "      <td>6.421</td>\n",
       "      <td>78.9</td>\n",
       "      <td>4.9671</td>\n",
       "      <td>242.0</td>\n",
       "      <td>17.8</td>\n",
       "      <td>396.90</td>\n",
       "      <td>9.14</td>\n",
       "      <td>21.6</td>\n",
       "      <td>-40.232942</td>\n",
       "    </tr>\n",
       "    <tr>\n",
       "      <th>2</th>\n",
       "      <td>0.02729</td>\n",
       "      <td>0.0</td>\n",
       "      <td>7.07</td>\n",
       "      <td>0.469</td>\n",
       "      <td>7.185</td>\n",
       "      <td>61.1</td>\n",
       "      <td>4.9671</td>\n",
       "      <td>242.0</td>\n",
       "      <td>17.8</td>\n",
       "      <td>392.83</td>\n",
       "      <td>4.03</td>\n",
       "      <td>34.7</td>\n",
       "      <td>-36.163035</td>\n",
       "    </tr>\n",
       "    <tr>\n",
       "      <th>3</th>\n",
       "      <td>0.03237</td>\n",
       "      <td>0.0</td>\n",
       "      <td>2.18</td>\n",
       "      <td>0.458</td>\n",
       "      <td>6.998</td>\n",
       "      <td>45.8</td>\n",
       "      <td>6.0622</td>\n",
       "      <td>222.0</td>\n",
       "      <td>18.7</td>\n",
       "      <td>394.63</td>\n",
       "      <td>2.94</td>\n",
       "      <td>33.4</td>\n",
       "      <td>-37.970360</td>\n",
       "    </tr>\n",
       "    <tr>\n",
       "      <th>4</th>\n",
       "      <td>0.06905</td>\n",
       "      <td>0.0</td>\n",
       "      <td>2.18</td>\n",
       "      <td>0.458</td>\n",
       "      <td>7.147</td>\n",
       "      <td>54.2</td>\n",
       "      <td>6.0622</td>\n",
       "      <td>222.0</td>\n",
       "      <td>18.7</td>\n",
       "      <td>396.90</td>\n",
       "      <td>5.33</td>\n",
       "      <td>36.2</td>\n",
       "      <td>-40.240309</td>\n",
       "    </tr>\n",
       "  </tbody>\n",
       "</table>\n",
       "</div>"
      ],
      "text/plain": [
       "      crim    zn  indus    nox     rm   age     dis    tax  ptratio       b  \\\n",
       "0  0.00632  18.0   2.31  0.538  6.575  65.2  4.0900  296.0     15.3  396.90   \n",
       "1  0.02731   0.0   7.07  0.469  6.421  78.9  4.9671  242.0     17.8  396.90   \n",
       "2  0.02729   0.0   7.07  0.469  7.185  61.1  4.9671  242.0     17.8  392.83   \n",
       "3  0.03237   0.0   2.18  0.458  6.998  45.8  6.0622  222.0     18.7  394.63   \n",
       "4  0.06905   0.0   2.18  0.458  7.147  54.2  6.0622  222.0     18.7  396.90   \n",
       "\n",
       "   lstat  medv        pc1  \n",
       "0   4.98  24.0 -40.227042  \n",
       "1   9.14  21.6 -40.232942  \n",
       "2   4.03  34.7 -36.163035  \n",
       "3   2.94  33.4 -37.970360  \n",
       "4   5.33  36.2 -40.240309  "
      ]
     },
     "execution_count": 46,
     "metadata": {},
     "output_type": "execute_result"
    }
   ],
   "source": [
    "data.head()"
   ]
  },
  {
   "cell_type": "code",
   "execution_count": 48,
   "metadata": {},
   "outputs": [
    {
     "data": {
      "text/plain": [
       "<seaborn.axisgrid.JointGrid at 0x1fbe1504130>"
      ]
     },
     "execution_count": 48,
     "metadata": {},
     "output_type": "execute_result"
    },
    {
     "data": {
      "image/png": "[encoded data removed]",
      "text/plain": [
       "<Figure size 432x432 with 3 Axes>"
      ]
     },
     "metadata": {
      "needs_background": "light"
     },
     "output_type": "display_data"
    }
   ],
   "source": [
    "# 새로운 변수와 집 값의 상관관계를 확인해봅시다.\n",
    "\n",
    "sns.jointplot(data=data, x='pc1', y='medv', kind= 'reg')"
   ]
  },
  {
   "cell_type": "code",
   "execution_count": 49,
   "metadata": {},
   "outputs": [
    {
     "data": {
      "text/plain": [
       "-0.33348451067418966"
      ]
     },
     "execution_count": 49,
     "metadata": {},
     "output_type": "execute_result"
    }
   ],
   "source": [
    "# 상관계수도 확인해봅시다.\n",
    "data['pc1'].corr(data['medv'])\n",
    "\n",
    "# 합치기 전과 거의 같음 -> 아까 컬럼 b 의 비율을 많이 담았기 때문이다.\n",
    "# 정규화 해보자."
   ]
  },
  {
   "cell_type": "markdown",
   "metadata": {},
   "source": [
    "# 정규화\n",
    "`정규화`를 진행하기 전과 진행한 후의 결과 차이를 보며 정규화를 왜 해야하는지 알아봅시다.\n",
    "\n",
    "#### `StandardScaler()`\n",
    "\n",
    "- 정규화 객체 생성\n",
    "\n",
    "#### `scaler.fit(x)`\n",
    "\n",
    "- 정규화 객체로 학습\n",
    "\n",
    "#### `scaler.transform(x)`\n",
    "\n",
    "- 학습된 학습기로 변수 x의 데이터를 변환"
   ]
  },
  {
   "cell_type": "code",
   "execution_count": 50,
   "metadata": {},
   "outputs": [],
   "source": [
    "# 정규화에 필요한 라이브러리 입니다.\n",
    "from sklearn.preprocessing import StandardScaler"
   ]
  },
  {
   "cell_type": "code",
   "execution_count": 51,
   "metadata": {},
   "outputs": [],
   "source": [
    "# 정규화 객체를 만들어 줍니다.\n",
    "scaler = StandardScaler()"
   ]
  },
  {
   "cell_type": "code",
   "execution_count": 52,
   "metadata": {},
   "outputs": [],
   "source": [
    "# x를 학습시킨 후 변형하여 정규환된 x로 만들어 봅니다.\n",
    "\n",
    "scaler.fit(x)\n",
    "scaler_x = scaler.transform(x)\n",
    "\n",
    "# scaler_x = scaler.fit_tranform(x)"
   ]
  },
  {
   "cell_type": "code",
   "execution_count": 53,
   "metadata": {},
   "outputs": [
    {
     "data": {
      "text/plain": [
       "array([[ 0.1402136 ,  0.44105193],\n",
       "       [ 0.55715988,  0.44105193],\n",
       "       [ 0.55715988,  0.39642699],\n",
       "       ...,\n",
       "       [-0.77368357,  0.44105193],\n",
       "       [-0.66843684,  0.4032249 ],\n",
       "       [-0.61324648,  0.44105193]])"
      ]
     },
     "execution_count": 53,
     "metadata": {},
     "output_type": "execute_result"
    }
   ],
   "source": [
    "scaler_x"
   ]
  },
  {
   "cell_type": "code",
   "execution_count": null,
   "metadata": {},
   "outputs": [],
   "source": []
  },
  {
   "cell_type": "markdown",
   "metadata": {},
   "source": [
    "### 반복 작업"
   ]
  },
  {
   "cell_type": "code",
   "execution_count": 54,
   "metadata": {},
   "outputs": [
    {
     "data": {
      "text/plain": [
       "array([[-0.70710678, -0.70710678]])"
      ]
     },
     "execution_count": 54,
     "metadata": {},
     "output_type": "execute_result"
    }
   ],
   "source": [
    "# PCA의 개수를 찾기\n",
    "pca = PCA(n_components=1)\n",
    "# 데이터를 학습\n",
    "pca.fit(scaler_x)\n",
    "# 새로운 변수에 담긴 각 변수의 분산을 확인\n",
    "# 위와 달라진 분산의 정도를 확인할 수 있습니다.\n",
    "pca.components_\n",
    "\n",
    "# 아까와는 다르게 비슷한 비율로 담긴것을 확인할 수 있다."
   ]
  },
  {
   "cell_type": "code",
   "execution_count": 55,
   "metadata": {},
   "outputs": [
    {
     "data": {
      "text/plain": [
       "array([0.64575584])"
      ]
     },
     "execution_count": 55,
     "metadata": {},
     "output_type": "execute_result"
    }
   ],
   "source": [
    "# 새로운 변수 PC1이 설명하는 분산의 비율입니다.\n",
    "pca.explained_variance_ratio_"
   ]
  },
  {
   "cell_type": "code",
   "execution_count": 56,
   "metadata": {},
   "outputs": [],
   "source": [
    "# 위와 같이 pc2의 컬럼에 데이터를 넣어봅시다.\n",
    "data['pc2'] = pca.transform(scaler_x)"
   ]
  },
  {
   "cell_type": "code",
   "execution_count": 57,
   "metadata": {},
   "outputs": [
    {
     "data": {
      "text/html": [
       "<div>\n",
       "<style scoped>\n",
       "    .dataframe tbody tr th:only-of-type {\n",
       "        vertical-align: middle;\n",
       "    }\n",
       "\n",
       "    .dataframe tbody tr th {\n",
       "        vertical-align: top;\n",
       "    }\n",
       "\n",
       "    .dataframe thead th {\n",
       "        text-align: right;\n",
       "    }\n",
       "</style>\n",
       "<table border=\"1\" class=\"dataframe\">\n",
       "  <thead>\n",
       "    <tr style=\"text-align: right;\">\n",
       "      <th></th>\n",
       "      <th>crim</th>\n",
       "      <th>zn</th>\n",
       "      <th>indus</th>\n",
       "      <th>nox</th>\n",
       "      <th>rm</th>\n",
       "      <th>age</th>\n",
       "      <th>dis</th>\n",
       "      <th>tax</th>\n",
       "      <th>ptratio</th>\n",
       "      <th>b</th>\n",
       "      <th>lstat</th>\n",
       "      <th>medv</th>\n",
       "      <th>pc1</th>\n",
       "      <th>pc2</th>\n",
       "    </tr>\n",
       "  </thead>\n",
       "  <tbody>\n",
       "    <tr>\n",
       "      <th>0</th>\n",
       "      <td>0.00632</td>\n",
       "      <td>18.0</td>\n",
       "      <td>2.31</td>\n",
       "      <td>0.538</td>\n",
       "      <td>6.575</td>\n",
       "      <td>65.2</td>\n",
       "      <td>4.0900</td>\n",
       "      <td>296.0</td>\n",
       "      <td>15.3</td>\n",
       "      <td>396.90</td>\n",
       "      <td>4.98</td>\n",
       "      <td>24.0</td>\n",
       "      <td>-40.227042</td>\n",
       "      <td>-0.411017</td>\n",
       "    </tr>\n",
       "    <tr>\n",
       "      <th>1</th>\n",
       "      <td>0.02731</td>\n",
       "      <td>0.0</td>\n",
       "      <td>7.07</td>\n",
       "      <td>0.469</td>\n",
       "      <td>6.421</td>\n",
       "      <td>78.9</td>\n",
       "      <td>4.9671</td>\n",
       "      <td>242.0</td>\n",
       "      <td>17.8</td>\n",
       "      <td>396.90</td>\n",
       "      <td>9.14</td>\n",
       "      <td>21.6</td>\n",
       "      <td>-40.232942</td>\n",
       "      <td>-0.705842</td>\n",
       "    </tr>\n",
       "    <tr>\n",
       "      <th>2</th>\n",
       "      <td>0.02729</td>\n",
       "      <td>0.0</td>\n",
       "      <td>7.07</td>\n",
       "      <td>0.469</td>\n",
       "      <td>7.185</td>\n",
       "      <td>61.1</td>\n",
       "      <td>4.9671</td>\n",
       "      <td>242.0</td>\n",
       "      <td>17.8</td>\n",
       "      <td>392.83</td>\n",
       "      <td>4.03</td>\n",
       "      <td>34.7</td>\n",
       "      <td>-36.163035</td>\n",
       "      <td>-0.674288</td>\n",
       "    </tr>\n",
       "  </tbody>\n",
       "</table>\n",
       "</div>"
      ],
      "text/plain": [
       "      crim    zn  indus    nox     rm   age     dis    tax  ptratio       b  \\\n",
       "0  0.00632  18.0   2.31  0.538  6.575  65.2  4.0900  296.0     15.3  396.90   \n",
       "1  0.02731   0.0   7.07  0.469  6.421  78.9  4.9671  242.0     17.8  396.90   \n",
       "2  0.02729   0.0   7.07  0.469  7.185  61.1  4.9671  242.0     17.8  392.83   \n",
       "\n",
       "   lstat  medv        pc1       pc2  \n",
       "0   4.98  24.0 -40.227042 -0.411017  \n",
       "1   9.14  21.6 -40.232942 -0.705842  \n",
       "2   4.03  34.7 -36.163035 -0.674288  "
      ]
     },
     "execution_count": 57,
     "metadata": {},
     "output_type": "execute_result"
    }
   ],
   "source": [
    "data.head(3)"
   ]
  },
  {
   "cell_type": "code",
   "execution_count": 59,
   "metadata": {},
   "outputs": [
    {
     "data": {
      "text/plain": [
       "<seaborn.axisgrid.JointGrid at 0x1fbe2ba47c0>"
      ]
     },
     "execution_count": 59,
     "metadata": {},
     "output_type": "execute_result"
    },
    {
     "data": {
      "image/png": "[encoded data removed]",
      "text/plain": [
       "<Figure size 432x432 with 3 Axes>"
      ]
     },
     "metadata": {
      "needs_background": "light"
     },
     "output_type": "display_data"
    }
   ],
   "source": [
    "sns.jointplot(data= data, x='pc2', y='medv', kind='reg' )"
   ]
  },
  {
   "cell_type": "code",
   "execution_count": 60,
   "metadata": {},
   "outputs": [
    {
     "data": {
      "text/plain": [
       "-0.3629898510009019"
      ]
     },
     "execution_count": 60,
     "metadata": {},
     "output_type": "execute_result"
    }
   ],
   "source": [
    "data['pc2'].corr(data['medv'])\n",
    "\n",
    "# 아까보다는 상관관계가 커짐"
   ]
  },
  {
   "cell_type": "code",
   "execution_count": null,
   "metadata": {},
   "outputs": [],
   "source": []
  }
 ],
 "metadata": {
  "kernelspec": {
   "display_name": "Python 3",
   "language": "python",
   "name": "python3"
  },
  "language_info": {
   "codemirror_mode": {
    "name": "ipython",
    "version": 3
   },
   "file_extension": ".py",
   "mimetype": "text/x-python",
   "name": "python",
   "nbconvert_exporter": "python",
   "pygments_lexer": "ipython3",
   "version": "3.8.8"
  },
  "toc": {
   "base_numbering": 1,
   "nav_menu": {},
   "number_sections": true,
   "sideBar": true,
   "skip_h1_title": false,
   "title_cell": "Table of Contents",
   "title_sidebar": "Contents",
   "toc_cell": false,
   "toc_position": {
    "height": "calc(100% - 180px)",
    "left": "10px",
    "top": "150px",
    "width": "284.444px"
   },
   "toc_section_display": true,
   "toc_window_display": true
  },
  "varInspector": {
   "cols": {
    "lenName": 16,
    "lenType": 16,
    "lenVar": 40
   },
   "kernels_config": {
    "python": {
     "delete_cmd_postfix": "",
     "delete_cmd_prefix": "del ",
     "library": "var_list.py",
     "varRefreshCmd": "print(var_dic_list())"
    },
    "r": {
     "delete_cmd_postfix": ") ",
     "delete_cmd_prefix": "rm(",
     "library": "var_list.r",
     "varRefreshCmd": "cat(var_dic_list()) "
    }
   },
   "types_to_exclude": [
    "module",
    "function",
    "builtin_function_or_method",
    "instance",
    "_Feature"
   ],
   "window_display": false
  }
 },
 "nbformat": 4,
 "nbformat_minor": 2
}
