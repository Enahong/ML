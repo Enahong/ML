{
 "cells": [
  {
   "cell_type": "markdown",
   "id": "ff35f5ef",
   "metadata": {},
   "source": [
    "강의 : https://www.youtube.com/watch?v=l7JN4fxeJdI&list=PLl1irxoYh2wzOOU9hvJqMYc215wAlxrpp&index=17"
   ]
  },
  {
   "cell_type": "markdown",
   "id": "153abe05",
   "metadata": {},
   "source": [
    "<img src=\"https://user-images.githubusercontent.com/85603111/134294002-37d34c08-2f9d-4ab7-a0d7-d97f300c1ce9.png\" width=350 align=\"left\">  \n",
    "3. ex) 차원\n",
    "<img src=\"https://user-images.githubusercontent.com/85603111/134294309-2b0d16ad-83fe-4d25-84bf-dc5fe6b5a668.png\" width = 200>\n",
    "\n",
    "***"
   ]
  },
  {
   "cell_type": "markdown",
   "id": "9ae134c5",
   "metadata": {},
   "source": [
    "# 데이터와 차원( 표의 열 vs 포함관계)\n",
    "\n",
    "**1. 표의 열**\n",
    "- 변수 2개 -> 2차원        \n",
    "<img src =\"https://user-images.githubusercontent.com/85603111/134294717-bfdc1e14-857d-43e0-b7b6-1f3088341e66.png\" width = 400>  \n",
    "\n",
    "- 변수 3개 -> 3차원   \n",
    "\n",
    "<img src ='https://user-images.githubusercontent.com/85603111/134295017-7d262194-fada-4e42-90c3-f82c162200df.png' width = 450>\n",
    "\n",
    "- 변수 N 개 -> N 차원\n",
    "\n",
    "<img src='https://user-images.githubusercontent.com/85603111/134295504-b25766a4-c371-4a6c-b462-325b43c7c460.png' width=450>\n",
    "\n",
    "***"
   ]
  },
  {
   "cell_type": "markdown",
   "id": "3aa8d273",
   "metadata": {},
   "source": [
    "**2.포함 관계**\n",
    "<img src='https://user-images.githubusercontent.com/85603111/134296139-00292cc4-ea5c-4f0e-91b4-f107b7597076.png' width=500>\n",
    "\n",
    "* x1 : 관측치 하나를 배열로 표현함   \n",
    "1차원형태, (4,) : 숫자 1개, 4의 의미는 4개의 요소를 지니고 있다는 뜻  \n",
    "* 아이리스 : 1차원의 배열 3개로 이루어진 2차원의 배열\n",
    "\n",
    "<img src ='https://user-images.githubusercontent.com/85603111/134297254-88bcb144-08d4-4cc9-9684-688a190b1bef.png' width =500>\n",
    "\n",
    "***\n",
    "<img src ='https://user-images.githubusercontent.com/85603111/134297493-c4904be3-b049-47be-ad08-3d13bed12170.png' width =500>\n",
    "\n",
    "***\n",
    "**정리**\n",
    "<img src ='https://user-images.githubusercontent.com/85603111/134297865-3f718b10-47e9-473c-904d-525f02ea9382.png' width =400>\n"
   ]
  },
  {
   "cell_type": "markdown",
   "id": "4b04cd10",
   "metadata": {},
   "source": [
    "# 이미지 데이터 구경하기\n",
    "* 이미지 셋 : MNIST(흑백), CIFAR10(칼라)\n",
    "\n",
    "<img src='https://user-images.githubusercontent.com/85603111/134298152-94e192d6-fa85-42aa-b8fc-a8afae2765cd.png' width =550>\n",
    "\n",
    "***"
   ]
  },
  {
   "cell_type": "markdown",
   "id": "72b2bb30",
   "metadata": {},
   "source": [
    "* MNIST\n",
    "* 검정 = 0, 흰색 = 255 \n",
    "<img src='https://user-images.githubusercontent.com/85603111/134303135-2e06440d-11a5-4955-81bb-6d5957f1b669.png' width =550>\n",
    "\n",
    "**이미지 파일 하나가 표 상에서는 관측치(행) 1개가 된다고 생각하시면 됩니다.** \n",
    "파일 하나에 들어있는 숫자의 갯수가 784(=28 * 28) 이고,  파일의 갯수가 60000장이니, \n",
    "표를 하나 만들면 (60000, 784)의 표가 만들어지는 것이고,하나의 관측치는 784차원이 되는 거에요.\n",
    "iris는 (150, 5) 의 표로 구성됩니다. 하나의 관측치는 5차원의 데이터에요. \n",
    "\n",
    "지금 표의 형태로 구성한 데이터셋은 2차원 형태로 구성한 데이터 셋이고요. \n",
    "\n",
    "만약, 이미지 데이터를 (60000, 784) 가 아닌 (60000, 28, 28) 형태로 구성하면 3차원 형태의 데이터로 구성한 거에요. \n",
    "데이터의 형태와 상관없이 이 두 경우 모두 784차원의 데이터가 되는 것이고, \n",
    "좀 더 구체적으로 표현하면, 이미지 한장은 784차원의 공간속에 하나의 점으로 표현할 수 있는 거에요. \n",
    "\n",
    "2차원, 3차원, 4차원의 형태로 데이터의 형태를 아무리 바꿔도, \n",
    "이미지 하나가 784차원의 공간에 한 점으로 표한되는 데이터, 784차원의 데이터라는 것은 변하지 않죠. \n",
    "\n",
    "***"
   ]
  },
  {
   "cell_type": "markdown",
   "id": "b8778bf0",
   "metadata": {},
   "source": [
    "* CIFAR10\n",
    "* 위에서 본 흑백 사진은 데이터 한칸에 숫자 1개가 들어가 있는데, 컬러는 숫자 3개(빨, 파, 초)가 들어가 있는 형태라고 보면 된다.\n",
    "\n",
    "<img src='https://user-images.githubusercontent.com/85603111/134304169-486cc6a2-c97a-428e-b548-06a7d5cd6a06.png' width= 600>\n",
    "\n",
    "***\n",
    "* 이미지 속성\n",
    "* 이미지 크기 = 2448 * 3264\n",
    "* 숫자 = 2448 * 3264 * 3(칼라 이미지이기 때문)\n",
    "* 컴퓨터에 이미지 학습시킬 시, 이 큰 사이즈의 사진을 그대로 학습시키지 않고, 사이즈를 줄인 후 학습시킨다.\n",
    "<img src='https://user-images.githubusercontent.com/85603111/134304721-a1ea57d8-e5a3-46bf-94c6-e3c734c086b2.png' width=550>"
   ]
  },
  {
   "cell_type": "markdown",
   "id": "54bc1b3c",
   "metadata": {},
   "source": [
    "# 이미지셋 실습\n",
    "- MNIST: 손글씨 이미지셋 (60000, 28, 28)\n",
    "- CIFAR10: 10가지 분류 사물 이미지셋 (50000, 32, 32)\n",
    "\n",
    "* tensetflow API : https://www.tensorflow.org/api_docs/python/tf/keras"
   ]
  },
  {
   "cell_type": "code",
   "execution_count": 1,
   "id": "be59ae43",
   "metadata": {},
   "outputs": [],
   "source": [
    "import tensorflow as tf"
   ]
  },
  {
   "cell_type": "code",
   "execution_count": 2,
   "id": "b81bc846",
   "metadata": {
    "scrolled": true
   },
   "outputs": [
    {
     "name": "stdout",
     "output_type": "stream",
     "text": [
      "Downloading data from https://storage.googleapis.com/tensorflow/tf-keras-datasets/mnist.npz\n",
      "11493376/11490434 [==============================] - 2s 0us/step\n",
      "(60000, 28, 28) (60000,)\n",
      "Downloading data from https://www.cs.toronto.edu/~kriz/cifar-10-python.tar.gz\n",
      "170500096/170498071 [==============================] - 47s 0us/step\n",
      "(50000, 32, 32, 3) (50000, 1)\n"
     ]
    }
   ],
   "source": [
    "# (독립변수, 종속변수)\n",
    "# ,_ 를 해야 에러가 안생긴다.\n",
    "\n",
    "# 흑백 이미지\n",
    "(mnist_x, mnist_y), _ = tf.keras.datasets.mnist.load_data()\n",
    "print(mnist_x.shape, mnist_y.shape)\n",
    "\n",
    "# 컬러 이미지\n",
    "(cifar_x, cifar_y), _ = tf.keras.datasets.cifar10.load_data()\n",
    "print(cifar_x.shape, cifar_y.shape)"
   ]
  },
  {
   "cell_type": "markdown",
   "id": "2ac27e52",
   "metadata": {},
   "source": [
    "## 화면 출력"
   ]
  },
  {
   "cell_type": "code",
   "execution_count": 3,
   "id": "b9acdd82",
   "metadata": {},
   "outputs": [],
   "source": [
    "import matplotlib.pyplot as plt"
   ]
  },
  {
   "cell_type": "code",
   "execution_count": 8,
   "id": "3be14111",
   "metadata": {},
   "outputs": [
    {
     "name": "stdout",
     "output_type": "stream",
     "text": [
      "[5 0 4 1 9 2 1 3 1 4]\n"
     ]
    },
    {
     "data": {
      "text/plain": [
       "<matplotlib.image.AxesImage at 0x2076c8c9cd0>"
      ]
     },
     "execution_count": 8,
     "metadata": {},
     "output_type": "execute_result"
    },
    {
     "data": {
      "image/png": "[encoded data removed]",
      "text/plain": [
       "<Figure size 432x288 with 1 Axes>"
      ]
     },
     "metadata": {
      "needs_background": "light"
     },
     "output_type": "display_data"
    }
   ],
   "source": [
    "print(mnist_y[0:10])\n",
    "\n",
    "# 이미지 출력 \n",
    "# 60000장 이미지 중 1장만 출력해본다.\n",
    "plt.imshow(mnist_x[3], cmap='gray')"
   ]
  },
  {
   "cell_type": "code",
   "execution_count": 15,
   "id": "c8260c19",
   "metadata": {},
   "outputs": [
    {
     "name": "stdout",
     "output_type": "stream",
     "text": [
      "[[6]\n",
      " [9]\n",
      " [9]\n",
      " [4]\n",
      " [1]\n",
      " [1]\n",
      " [2]\n",
      " [7]\n",
      " [8]\n",
      " [3]]\n"
     ]
    },
    {
     "data": {
      "text/plain": [
       "<matplotlib.image.AxesImage at 0x2076cb27d90>"
      ]
     },
     "execution_count": 15,
     "metadata": {},
     "output_type": "execute_result"
    },
    {
     "data": {
      "image/png": "[encoded data removed]",
      "text/plain": [
       "<Figure size 432x288 with 1 Axes>"
      ]
     },
     "metadata": {
      "needs_background": "light"
     },
     "output_type": "display_data"
    }
   ],
   "source": [
    "print(cifar_y[0:10])\n",
    "\n",
    "# 이미지 출력 \n",
    "# 60000장 이미지 중 1장만 출력해본다.\n",
    "plt.imshow(cifar_x[0])"
   ]
  },
  {
   "cell_type": "markdown",
   "id": "8718c8e1",
   "metadata": {},
   "source": [
    "## 차원 확인"
   ]
  },
  {
   "cell_type": "code",
   "execution_count": 20,
   "id": "7d8ce212",
   "metadata": {},
   "outputs": [
    {
     "name": "stdout",
     "output_type": "stream",
     "text": [
      "(5,)\n",
      "(4, 5)\n",
      "(3, 4, 5)\n",
      "(2, 3, 4, 5)\n"
     ]
    }
   ],
   "source": [
    "import numpy as np\n",
    "\n",
    "d1= np.array([1,2,3,4,5])\n",
    "print(d1.shape)\n",
    "\n",
    "d2 = np.array([d1,d1,d1,d1])\n",
    "print(d2.shape)\n",
    "\n",
    "d3 = np.array([d2,d2,d2])\n",
    "print(d3.shape)\n",
    "\n",
    "d4 = np.array([d3,d3])\n",
    "print(d4.shape)"
   ]
  },
  {
   "cell_type": "code",
   "execution_count": 21,
   "id": "06773fdc",
   "metadata": {},
   "outputs": [
    {
     "name": "stdout",
     "output_type": "stream",
     "text": [
      "(60000,)\n",
      "(50000, 1)\n"
     ]
    }
   ],
   "source": [
    "print(mnist_y.shape)\n",
    "print(cifar_y.shape)"
   ]
  },
  {
   "cell_type": "code",
   "execution_count": 32,
   "id": "d2fc0c0d",
   "metadata": {},
   "outputs": [
    {
     "name": "stdout",
     "output_type": "stream",
     "text": [
      "(5,)\n",
      "[5 0 4 1 9]\n",
      "(5,)\n",
      "-----\n",
      "(1, 5)\n",
      "-----\n",
      "(5, 1)\n",
      "[[6]\n",
      " [9]\n",
      " [9]\n",
      " [4]\n",
      " [1]]\n",
      "(5, 1)\n"
     ]
    }
   ],
   "source": [
    "x1 = np.array([1,2,3,4,5])\n",
    "print(x1.shape)\n",
    "print(mnist_y[0:5])\n",
    "print(mnist_y[0:5].shape)\n",
    "\n",
    "print('-'*5)\n",
    "\n",
    "x2 = np.array([[1,2,3,4,5]])\n",
    "print(x2.shape)\n",
    "\n",
    "print('-'*5)\n",
    "\n",
    "x3 = np.array([[1],[2],[3],[4],[5]]) \n",
    "print(x3.shape)\n",
    "print(cifar_y[0:5])\n",
    "print(cifar_y[0:5].shape)"
   ]
  },
  {
   "cell_type": "markdown",
   "id": "fbe44611",
   "metadata": {},
   "source": [
    "# 이미지 분류기 \n",
    "* 머신러닝의 지도학습의 분류 문제이다\n",
    "\n",
    "<img src='https://user-images.githubusercontent.com/85603111/134311026-32533ea8-a413-4967-bba0-7813e51113a5.png' width =450>\n",
    "\n",
    "* 이미지 학습의 가장 대표적인 딥모델로는 CNN 이 있다.\n",
    "* CNN (Convolutional Neural Networks)\n",
    "<img src ='https://user-images.githubusercontent.com/85603111/134311273-b0859c2e-02ba-4bec-9372-eea2c17b75f1.png' width =600>"
   ]
  },
  {
   "cell_type": "markdown",
   "id": "7ecdab39",
   "metadata": {},
   "source": [
    "# 이미지 학습 전체 코드 \n",
    "\n",
    "```python\n",
    "# 1. 과거의 데이터를 준비한다.\n",
    "\n",
    "# 독립, 종속 데이터를 표 형태로 만들어 주어야 한다.\n",
    "(독립, 종속),_ = tf.keras.datasets.mnist.load_data()\n",
    "독립 = 독립.reshape(60000, 784) # 표형태로 바꿈\n",
    "종속 = pd.get_dummies(종속) # 원핫인코딩으로 표형태로 바꿈\n",
    "print(독립.shape, 종속.shape)\n",
    "\n",
    "# 2. 모델의 구조를 만든다.\n",
    "X = tf.keras.layers.Input(shape=[784])\n",
    "H = tf.keras.layers.Dense(84, activation = 'swish')(X)\n",
    "Y = tf.keras.layers.Dense(10, activation ='softmax')(H)\n",
    "model = tf.keras.models.Model(X,Y)\n",
    "model.compile(loss = 'categorical_crossentropy', metrics='accuracy')\n",
    "\n",
    "# 3. 데이터로 모델을 학습(FIT) 한다.\n",
    "model.fit(독립, 종속, epochs=10)\n",
    "\n",
    "# 4. 모델을 이용한다.\n",
    "print('predictions : ', model.predict(독립[0:5])\n",
    "```      \n",
    "* 테이블 형태로 reshape\n",
    "<img src='https://user-images.githubusercontent.com/85603111/134313646-34430269-d3af-445a-b023-68d89ca1fb78.png' width = 550>"
   ]
  },
  {
   "cell_type": "markdown",
   "id": "91e2434d",
   "metadata": {},
   "source": [
    "## Flatten\n",
    "\n",
    "* hidden layer 없는 경우\n",
    "<img src='https://user-images.githubusercontent.com/85603111/134314089-929d1dc0-6548-475e-aac8-bed4593bcb7d.png' width =600>\n",
    "\n",
    "* hidden layer 추가한 경우\n",
    "<img src='https://user-images.githubusercontent.com/85603111/134314536-5c93ae28-bbcc-4fb7-b4cc-90d5e876c4e7.png' width = 600>\n",
    "\n",
    "* 코드 변형 \n",
    "- Flatten : reshape 기능을 모델 내에서 동작시키는 역할\n",
    "\n",
    "```python\n",
    "# 1. 과거의 데이터를 준비한다.\n",
    "\n",
    "# 독립, 종속 데이터를 표 형태로 만들어 주어야 한다.\n",
    "(독립, 종속),_ = tf.keras.datasets.mnist.load_data()\n",
    "종속 = pd.get_dummies(종속)\n",
    "print(독립.shape, 종속.shape)\n",
    "# (60000, 28,28), (60000, 1)\n",
    "\n",
    "# 2. 모델의 구조를 만든다.\n",
    "X = tf.keras.layers.Input(shape=[28,28])\n",
    "H = tf.keras.layers.Flatten()(X) # Flatten 코드 : reshape 기능을 모델 내에서 동작시키는 역할\n",
    "H = tf.keras.layers.Dense(84, activation = 'swish')(H)\n",
    "Y = tf.keras.layers.Dense(10, activation ='softmax')(H)\n",
    "model = tf.keras.models.Model(X,Y)\n",
    "model.compile(loss = 'categorical_crossentropy', metrics='accuracy')\n",
    "\n",
    "# 3. 데이터로 모델을 학습(FIT) 한다.\n",
    "model.fit(독립, 종속, epochs=10)\n",
    "\n",
    "# 4. 모델을 이용한다.\n",
    "print('predictions : ', model.predict(독립[0:5])\n",
    "```      "
   ]
  },
  {
   "cell_type": "markdown",
   "id": "4dbe39a1",
   "metadata": {},
   "source": [
    "### Flatten layer를 활용한 이미지 학습"
   ]
  },
  {
   "cell_type": "code",
   "execution_count": 34,
   "id": "4f35ea17",
   "metadata": {},
   "outputs": [],
   "source": [
    "import tensorflow as tf\n",
    "import pandas as pd "
   ]
  },
  {
   "cell_type": "markdown",
   "id": "112174f1",
   "metadata": {},
   "source": [
    "### with reshape"
   ]
  },
  {
   "cell_type": "code",
   "execution_count": 36,
   "id": "075f1d44",
   "metadata": {},
   "outputs": [
    {
     "name": "stdout",
     "output_type": "stream",
     "text": [
      "(60000, 28, 28) (60000,)\n",
      "(60000, 784) (60000, 10)\n"
     ]
    }
   ],
   "source": [
    "# 데이터셋 준비\n",
    "(독립, 종속),_ = tf.keras.datasets.mnist.load_data()\n",
    "print(독립.shape, 종속.shape)\n",
    "  \n",
    "독립 = 독립.reshape(60000, 784)      \n",
    "종속 = pd.get_dummies(종속)\n",
    "print(독립.shape, 종속.shape)    "
   ]
  },
  {
   "cell_type": "code",
   "execution_count": 37,
   "id": "138e5a85",
   "metadata": {},
   "outputs": [],
   "source": [
    "# 모델 만들기 \n",
    "\n",
    "X = tf.keras.layers.Input(shape=[784])\n",
    "H = tf.keras.layers.Dense(84, activation = 'swish')(X)\n",
    "Y = tf.keras.layers.Dense(10, activation ='softmax')(H) # 분류\n",
    "model = tf.keras.models.Model(X,Y)\n",
    "model.compile(loss = 'categorical_crossentropy', metrics='accuracy')"
   ]
  },
  {
   "cell_type": "code",
   "execution_count": 38,
   "id": "26bd8a17",
   "metadata": {},
   "outputs": [
    {
     "name": "stdout",
     "output_type": "stream",
     "text": [
      "Epoch 1/10\n",
      "1875/1875 [==============================] - 6s 3ms/step - loss: 2.4242 - accuracy: 0.8549\n",
      "Epoch 2/10\n",
      "1875/1875 [==============================] - 5s 3ms/step - loss: 0.5621 - accuracy: 0.9190\n",
      "Epoch 3/10\n",
      "1875/1875 [==============================] - 4s 2ms/step - loss: 0.4633 - accuracy: 0.9324\n",
      "Epoch 4/10\n",
      "1875/1875 [==============================] - 4s 2ms/step - loss: 0.4252 - accuracy: 0.9398\n",
      "Epoch 5/10\n",
      "1875/1875 [==============================] - 4s 2ms/step - loss: 0.4190 - accuracy: 0.9425\n",
      "Epoch 6/10\n",
      "1875/1875 [==============================] - 5s 3ms/step - loss: 0.3903 - accuracy: 0.9464\n",
      "Epoch 7/10\n",
      "1875/1875 [==============================] - 6s 3ms/step - loss: 0.3702 - accuracy: 0.9510: 1s\n",
      "Epoch 8/10\n",
      "1875/1875 [==============================] - 7s 4ms/step - loss: 0.3564 - accuracy: 0.9526\n",
      "Epoch 9/10\n",
      "1875/1875 [==============================] - 4s 2ms/step - loss: 0.3352 - accuracy: 0.9525\n",
      "Epoch 10/10\n",
      "1875/1875 [==============================] - 5s 3ms/step - loss: 0.3504 - accuracy: 0.9545: 0s - loss: 0.3450 - accuracy - ETA: 0s - los\n"
     ]
    },
    {
     "data": {
      "text/plain": [
       "<tensorflow.python.keras.callbacks.History at 0x2076dc42670>"
      ]
     },
     "execution_count": 38,
     "metadata": {},
     "output_type": "execute_result"
    }
   ],
   "source": [
    "# 모델 학습\n",
    "\n",
    "model.fit(독립, 종속, epochs=10)\n",
    "\n",
    "# 정확도가 95%에 가깝게 학습이 되었다. "
   ]
  },
  {
   "cell_type": "code",
   "execution_count": 46,
   "id": "043a06be",
   "metadata": {},
   "outputs": [
    {
     "data": {
      "text/html": [
       "<div>\n",
       "<style scoped>\n",
       "    .dataframe tbody tr th:only-of-type {\n",
       "        vertical-align: middle;\n",
       "    }\n",
       "\n",
       "    .dataframe tbody tr th {\n",
       "        vertical-align: top;\n",
       "    }\n",
       "\n",
       "    .dataframe thead th {\n",
       "        text-align: right;\n",
       "    }\n",
       "</style>\n",
       "<table border=\"1\" class=\"dataframe\">\n",
       "  <thead>\n",
       "    <tr style=\"text-align: right;\">\n",
       "      <th></th>\n",
       "      <th>0</th>\n",
       "      <th>1</th>\n",
       "      <th>2</th>\n",
       "      <th>3</th>\n",
       "      <th>4</th>\n",
       "      <th>5</th>\n",
       "      <th>6</th>\n",
       "      <th>7</th>\n",
       "      <th>8</th>\n",
       "      <th>9</th>\n",
       "    </tr>\n",
       "  </thead>\n",
       "  <tbody>\n",
       "    <tr>\n",
       "      <th>0</th>\n",
       "      <td>0.0</td>\n",
       "      <td>0.0</td>\n",
       "      <td>0.0</td>\n",
       "      <td>0.0</td>\n",
       "      <td>0.0</td>\n",
       "      <td>1.0</td>\n",
       "      <td>0.0</td>\n",
       "      <td>0.0</td>\n",
       "      <td>0.0</td>\n",
       "      <td>0.0</td>\n",
       "    </tr>\n",
       "    <tr>\n",
       "      <th>1</th>\n",
       "      <td>1.0</td>\n",
       "      <td>0.0</td>\n",
       "      <td>0.0</td>\n",
       "      <td>0.0</td>\n",
       "      <td>0.0</td>\n",
       "      <td>0.0</td>\n",
       "      <td>0.0</td>\n",
       "      <td>0.0</td>\n",
       "      <td>0.0</td>\n",
       "      <td>0.0</td>\n",
       "    </tr>\n",
       "    <tr>\n",
       "      <th>2</th>\n",
       "      <td>0.0</td>\n",
       "      <td>0.0</td>\n",
       "      <td>0.0</td>\n",
       "      <td>0.0</td>\n",
       "      <td>1.0</td>\n",
       "      <td>0.0</td>\n",
       "      <td>0.0</td>\n",
       "      <td>0.0</td>\n",
       "      <td>0.0</td>\n",
       "      <td>0.0</td>\n",
       "    </tr>\n",
       "    <tr>\n",
       "      <th>3</th>\n",
       "      <td>0.0</td>\n",
       "      <td>1.0</td>\n",
       "      <td>0.0</td>\n",
       "      <td>0.0</td>\n",
       "      <td>0.0</td>\n",
       "      <td>0.0</td>\n",
       "      <td>0.0</td>\n",
       "      <td>0.0</td>\n",
       "      <td>0.0</td>\n",
       "      <td>0.0</td>\n",
       "    </tr>\n",
       "    <tr>\n",
       "      <th>4</th>\n",
       "      <td>0.0</td>\n",
       "      <td>0.0</td>\n",
       "      <td>0.0</td>\n",
       "      <td>0.0</td>\n",
       "      <td>0.0</td>\n",
       "      <td>0.0</td>\n",
       "      <td>0.0</td>\n",
       "      <td>0.0</td>\n",
       "      <td>0.0</td>\n",
       "      <td>1.0</td>\n",
       "    </tr>\n",
       "  </tbody>\n",
       "</table>\n",
       "</div>"
      ],
      "text/plain": [
       "     0    1    2    3    4    5    6    7    8    9\n",
       "0  0.0  0.0  0.0  0.0  0.0  1.0  0.0  0.0  0.0  0.0\n",
       "1  1.0  0.0  0.0  0.0  0.0  0.0  0.0  0.0  0.0  0.0\n",
       "2  0.0  0.0  0.0  0.0  1.0  0.0  0.0  0.0  0.0  0.0\n",
       "3  0.0  1.0  0.0  0.0  0.0  0.0  0.0  0.0  0.0  0.0\n",
       "4  0.0  0.0  0.0  0.0  0.0  0.0  0.0  0.0  0.0  1.0"
      ]
     },
     "execution_count": 46,
     "metadata": {},
     "output_type": "execute_result"
    }
   ],
   "source": [
    "# 모델 이용\n",
    "\n",
    "pred = model.predict(독립[0:5])\n",
    "pd.DataFrame(pred).round(2)"
   ]
  },
  {
   "cell_type": "code",
   "execution_count": 47,
   "id": "a1af8a0f",
   "metadata": {},
   "outputs": [
    {
     "data": {
      "text/html": [
       "<div>\n",
       "<style scoped>\n",
       "    .dataframe tbody tr th:only-of-type {\n",
       "        vertical-align: middle;\n",
       "    }\n",
       "\n",
       "    .dataframe tbody tr th {\n",
       "        vertical-align: top;\n",
       "    }\n",
       "\n",
       "    .dataframe thead th {\n",
       "        text-align: right;\n",
       "    }\n",
       "</style>\n",
       "<table border=\"1\" class=\"dataframe\">\n",
       "  <thead>\n",
       "    <tr style=\"text-align: right;\">\n",
       "      <th></th>\n",
       "      <th>0</th>\n",
       "      <th>1</th>\n",
       "      <th>2</th>\n",
       "      <th>3</th>\n",
       "      <th>4</th>\n",
       "      <th>5</th>\n",
       "      <th>6</th>\n",
       "      <th>7</th>\n",
       "      <th>8</th>\n",
       "      <th>9</th>\n",
       "    </tr>\n",
       "  </thead>\n",
       "  <tbody>\n",
       "    <tr>\n",
       "      <th>0</th>\n",
       "      <td>0</td>\n",
       "      <td>0</td>\n",
       "      <td>0</td>\n",
       "      <td>0</td>\n",
       "      <td>0</td>\n",
       "      <td>1</td>\n",
       "      <td>0</td>\n",
       "      <td>0</td>\n",
       "      <td>0</td>\n",
       "      <td>0</td>\n",
       "    </tr>\n",
       "    <tr>\n",
       "      <th>1</th>\n",
       "      <td>1</td>\n",
       "      <td>0</td>\n",
       "      <td>0</td>\n",
       "      <td>0</td>\n",
       "      <td>0</td>\n",
       "      <td>0</td>\n",
       "      <td>0</td>\n",
       "      <td>0</td>\n",
       "      <td>0</td>\n",
       "      <td>0</td>\n",
       "    </tr>\n",
       "    <tr>\n",
       "      <th>2</th>\n",
       "      <td>0</td>\n",
       "      <td>0</td>\n",
       "      <td>0</td>\n",
       "      <td>0</td>\n",
       "      <td>1</td>\n",
       "      <td>0</td>\n",
       "      <td>0</td>\n",
       "      <td>0</td>\n",
       "      <td>0</td>\n",
       "      <td>0</td>\n",
       "    </tr>\n",
       "    <tr>\n",
       "      <th>3</th>\n",
       "      <td>0</td>\n",
       "      <td>1</td>\n",
       "      <td>0</td>\n",
       "      <td>0</td>\n",
       "      <td>0</td>\n",
       "      <td>0</td>\n",
       "      <td>0</td>\n",
       "      <td>0</td>\n",
       "      <td>0</td>\n",
       "      <td>0</td>\n",
       "    </tr>\n",
       "    <tr>\n",
       "      <th>4</th>\n",
       "      <td>0</td>\n",
       "      <td>0</td>\n",
       "      <td>0</td>\n",
       "      <td>0</td>\n",
       "      <td>0</td>\n",
       "      <td>0</td>\n",
       "      <td>0</td>\n",
       "      <td>0</td>\n",
       "      <td>0</td>\n",
       "      <td>1</td>\n",
       "    </tr>\n",
       "  </tbody>\n",
       "</table>\n",
       "</div>"
      ],
      "text/plain": [
       "   0  1  2  3  4  5  6  7  8  9\n",
       "0  0  0  0  0  0  1  0  0  0  0\n",
       "1  1  0  0  0  0  0  0  0  0  0\n",
       "2  0  0  0  0  1  0  0  0  0  0\n",
       "3  0  1  0  0  0  0  0  0  0  0\n",
       "4  0  0  0  0  0  0  0  0  0  1"
      ]
     },
     "execution_count": 47,
     "metadata": {},
     "output_type": "execute_result"
    }
   ],
   "source": [
    "# 정답과 비교\n",
    "종속[0:5]"
   ]
  },
  {
   "cell_type": "markdown",
   "id": "df47ba58",
   "metadata": {},
   "source": [
    "### with Flatten"
   ]
  },
  {
   "cell_type": "code",
   "execution_count": 49,
   "id": "fde06d4d",
   "metadata": {},
   "outputs": [
    {
     "name": "stdout",
     "output_type": "stream",
     "text": [
      "(60000, 28, 28) (60000, 10)\n"
     ]
    }
   ],
   "source": [
    "# 1. 과거의 데이터를 준비한다.\n",
    "\n",
    "# 독립, 종속 데이터를 표 형태로 만들어 주어야 한다.\n",
    "(독립, 종속),_ = tf.keras.datasets.mnist.load_data()\n",
    "종속 = pd.get_dummies(종속)\n",
    "print(독립.shape, 종속.shape)"
   ]
  },
  {
   "cell_type": "code",
   "execution_count": 50,
   "id": "1a941f45",
   "metadata": {},
   "outputs": [],
   "source": [
    "# 2. 모델의 구조를 만든다.\n",
    "X = tf.keras.layers.Input(shape=[28,28])\n",
    "H = tf.keras.layers.Flatten()(X) # Flatten 코드 : reshape 기능을 모델 내에서 동작시키는 역할\n",
    "H = tf.keras.layers.Dense(84, activation = 'swish')(H)\n",
    "Y = tf.keras.layers.Dense(10, activation ='softmax')(H)\n",
    "model = tf.keras.models.Model(X,Y)\n",
    "model.compile(loss = 'categorical_crossentropy', metrics='accuracy')"
   ]
  },
  {
   "cell_type": "code",
   "execution_count": 51,
   "id": "826f97d4",
   "metadata": {},
   "outputs": [
    {
     "name": "stdout",
     "output_type": "stream",
     "text": [
      "Epoch 1/5\n",
      "1875/1875 [==============================] - 6s 3ms/step - loss: 2.2869 - accuracy: 0.8507\n",
      "Epoch 2/5\n",
      "1875/1875 [==============================] - 5s 3ms/step - loss: 0.5482 - accuracy: 0.9178\n",
      "Epoch 3/5\n",
      "1875/1875 [==============================] - 6s 3ms/step - loss: 0.4622 - accuracy: 0.9294\n",
      "Epoch 4/5\n",
      "1875/1875 [==============================] - 4s 2ms/step - loss: 0.4243 - accuracy: 0.9348\n",
      "Epoch 5/5\n",
      "1875/1875 [==============================] - 4s 2ms/step - loss: 0.4248 - accuracy: 0.9386: 1s - loss: 0.4\n"
     ]
    },
    {
     "data": {
      "text/plain": [
       "<tensorflow.python.keras.callbacks.History at 0x2076f8ced00>"
      ]
     },
     "execution_count": 51,
     "metadata": {},
     "output_type": "execute_result"
    }
   ],
   "source": [
    "# 3. 데이터로 모델을 학습(FIT) 한다.\n",
    "model.fit(독립, 종속, epochs=5)"
   ]
  },
  {
   "cell_type": "code",
   "execution_count": 53,
   "id": "3e7fbd56",
   "metadata": {},
   "outputs": [
    {
     "name": "stdout",
     "output_type": "stream",
     "text": [
      "predictions :  [[0.00000000e+00 0.00000000e+00 0.00000000e+00 2.92587677e-13\n",
      "  0.00000000e+00 1.00000000e+00 1.40677227e-36 0.00000000e+00\n",
      "  1.17776814e-35 2.27593959e-27]\n",
      " [1.00000000e+00 0.00000000e+00 3.80267893e-13 1.08510721e-18\n",
      "  3.28014404e-26 5.14648957e-12 9.13415682e-15 1.36659224e-16\n",
      "  1.30837494e-18 1.62060961e-17]\n",
      " [0.00000000e+00 0.00000000e+00 9.36673273e-36 1.24499113e-36\n",
      "  1.00000000e+00 0.00000000e+00 0.00000000e+00 1.48881984e-22\n",
      "  0.00000000e+00 2.15694046e-25]\n",
      " [0.00000000e+00 1.00000000e+00 0.00000000e+00 0.00000000e+00\n",
      "  0.00000000e+00 0.00000000e+00 0.00000000e+00 0.00000000e+00\n",
      "  9.83835957e-38 0.00000000e+00]\n",
      " [0.00000000e+00 0.00000000e+00 0.00000000e+00 2.98097893e-17\n",
      "  3.96861578e-05 2.41303428e-21 0.00000000e+00 1.18629250e-05\n",
      "  9.29623296e-21 9.99948502e-01]]\n"
     ]
    }
   ],
   "source": [
    "# 4. 모델을 이용한다.\n",
    "print('predictions : ', model.predict(독립[0:5]))"
   ]
  },
  {
   "cell_type": "markdown",
   "id": "58911fae",
   "metadata": {},
   "source": [
    "## Convolution (Conv2D)\n",
    "\n",
    "* 0 모양이 나타나는 특징 \n",
    "* 0 모양 개수\n",
    "* 특징이 나타나는 위치\n",
    "<img src='https://user-images.githubusercontent.com/85603111/134320121-987773ae-17a5-4789-a2b8-585bd80cc5b4.png' width=500>\n",
    "\n",
    "* 특징을 찾기위한 필터\n",
    "* 입력 이미지와 필터를 가지고 convolution 연산을 한다.\n",
    "* convolution 결과 2차원 형태의 숫자 집합으로 만들어 이루어지는데, 아래 이미지가 흑백의 이미지로 표현한 것이다.\n",
    "* 이미지로 부터 필터를 통해 특징을 잡아낸 convolution의 결과를 특징에 대한 위치 정보가 표현된 지도라는 의미로  \n",
    " **특징맵(feature map)**이리고 부른다.\n",
    "* **convolution filter 한개 당 특징맵 이미지 1개를 만든다** ★\n",
    "<img src='https://user-images.githubusercontent.com/85603111/134320695-28d05371-10de-448e-a580-f1fa9a6f5b25.png' width=500>\n",
    "\n",
    "***\n",
    "* 코드 \n",
    "\n",
    "```python\n",
    "# 1. 과거의 데이터를 준비한다.\n",
    "\n",
    "(독립, 종속),_ = tf.keras.datasets.mnist.load_data()\n",
    "독립 = 독립.reshape(60000, 28, 28, 1)\n",
    "종속 = pd.get_dummies(종속) # 원핫인코딩으로 표형태로 바꿈\n",
    "print(독립.shape, 종속.shape)\n",
    "\n",
    "# 2. 모델의 구조를 만든다.\n",
    "X = tf.keras.layers.Input(shape=[28,28,1]) # convolution 연산은 3차원의 관측치를 입력을 받는다.\n",
    "\n",
    "# 1) 필터셋을 몇개 사용할 것인가\n",
    "# 2) 필테셋의 사이즈를 얼마로 할 것인가 \n",
    "H = tf.keras.layers.Conv2D(3, kernel_size=5, activation='swish')(X) # 3개의 특징맵 = 3채널의 특징맵\n",
    "H = tf.keras.layers.Conv2D(6, kernel_size=5, activation='swish')(H) # 6개의 특징뱁 = 6채널의 특징맵\n",
    "\n",
    "# Flatten 코드 : reshape 기능을 모델 내에서 동작시키는 역할\n",
    "H = tf.keras.layers.Flatten()(H) # 표형태로 만든다.\n",
    "\n",
    "H = tf.keras.layers.Dense(84, activation = 'swish')(H)\n",
    "Y = tf.keras.layers.Dense(10, activation ='softmax')(H)\n",
    "model = tf.keras.models.Model(X,Y)\n",
    "model.compile(loss = 'categorical_crossentropy', metrics='accuracy')\n",
    "```"
   ]
  },
  {
   "cell_type": "markdown",
   "id": "4e36fb26",
   "metadata": {},
   "source": [
    "### 필터의 이해\n",
    "\n",
    "<img src='https://user-images.githubusercontent.com/85603111/134326486-9f296ba0-4ccd-4521-89cc-dd5787c5245b.png' width=550>\n",
    "\n",
    "* 필터 : F1,F2 ...\n",
    "* 특징맵 : M1, M2 ...  \n",
    "\n",
    "* size가 (kernel_size - 1) 만큼 줄어든다.\n",
    "<img src='https://user-images.githubusercontent.com/85603111/134326102-400a5fe3-03b2-4694-8812-cc5ebb1b5512.png' width=550>\n",
    "\n",
    "* **\"컴퓨터야 이 이미지들이 0~9 까지 중 어느 숫자인지 판단하기 위해 가장 좋은 특징맵 6개를 찾아줘\"**  \n",
    "=> 특징 자동 추출기"
   ]
  },
  {
   "cell_type": "markdown",
   "id": "d70753f3",
   "metadata": {},
   "source": [
    "### Convolution 연산의 이해\n",
    "\n",
    "<img src='https://user-images.githubusercontent.com/85603111/134328118-3d9a3c5d-fe1f-4fa8-a284-18dc0d8e1485.png' width=550>\n",
    "\n",
    "***\n",
    "* 숫자 4 예시)\n",
    "* 가로선 특징을 찾는 필터\n",
    "   \n",
    "<img src='https://user-images.githubusercontent.com/85603111/134328440-ee94c26d-f4b7-44be-a8ab-9206f4209db2.png' width = 450 align = 'left'>\n",
    "\n",
    "<img src='https://user-images.githubusercontent.com/85603111/134328697-fb7e54d3-15e0-41f1-97f3-1c0aceb95930.png' width = 450 align = 'right'>\n",
    "\n",
    "<img src='https://user-images.githubusercontent.com/85603111/134329016-ee226093-36d2-4414-ba19-bae5792bc697.png' width = 450 align = 'left'>\n",
    " ..... 반복\n",
    " \n",
    "<img src='https://user-images.githubusercontent.com/85603111/134329296-133e04c8-d3db-415e-9d51-ea16e5173bc3.png' width = 450 align = 'right'>"
   ]
  },
  {
   "cell_type": "markdown",
   "id": "c3d5e805",
   "metadata": {},
   "source": [
    "### Convolution layer 실습"
   ]
  },
  {
   "cell_type": "code",
   "execution_count": 54,
   "id": "24a701b6",
   "metadata": {},
   "outputs": [],
   "source": [
    "import tensorflow as tf \n",
    "import pandas as pd"
   ]
  },
  {
   "cell_type": "code",
   "execution_count": 55,
   "id": "3d032be8",
   "metadata": {},
   "outputs": [
    {
     "name": "stdout",
     "output_type": "stream",
     "text": [
      "(60000, 28, 28, 1) (60000, 10)\n"
     ]
    }
   ],
   "source": [
    "# 1. 데이터 준비\n",
    "\n",
    "(독립, 종속),_ = tf.keras.datasets.mnist.load_data()\n",
    "독립 = 독립.reshape(60000, 28, 28, 1) # 이미지 하나의 차원이 3차원이여야 함\n",
    "종속 = pd.get_dummies(종속) # 원핫인코딩으로 표형태로 바꿈\n",
    "print(독립.shape, 종속.shape)"
   ]
  },
  {
   "cell_type": "code",
   "execution_count": 56,
   "id": "0bd9fefa",
   "metadata": {},
   "outputs": [],
   "source": [
    "# 2. 모델의 구조를 만든다.\n",
    "X = tf.keras.layers.Input(shape=[28,28,1]) # convolution 연산은 3차원의 관측치를 입력을 받는다.\n",
    "\n",
    "# 1) 필터셋을 몇개 사용할 것인가\n",
    "# 2) 필테셋의 사이즈를 얼마로 할 것인가 \n",
    "H = tf.keras.layers.Conv2D(3, kernel_size=5, activation='swish')(X) # 3개의 특징맵 = 3채널의 특징맵\n",
    "H = tf.keras.layers.Conv2D(6, kernel_size=5, activation='swish')(H) # 6개의 특징뱁 = 6채널의 특징맵\n",
    "\n",
    "# Flatten 코드 : reshape 기능을 모델 내에서 동작시키는 역할\n",
    "H = tf.keras.layers.Flatten()(H) # 표형태로 만든다.\n",
    "\n",
    "H = tf.keras.layers.Dense(84, activation = 'swish')(H)\n",
    "Y = tf.keras.layers.Dense(10, activation ='softmax')(H)\n",
    "model = tf.keras.models.Model(X,Y)\n",
    "model.compile(loss = 'categorical_crossentropy', metrics='accuracy')"
   ]
  },
  {
   "cell_type": "code",
   "execution_count": 57,
   "id": "cbded77f",
   "metadata": {},
   "outputs": [
    {
     "name": "stdout",
     "output_type": "stream",
     "text": [
      "Epoch 1/10\n",
      "1875/1875 [==============================] - 37s 20ms/step - loss: 0.6071 - accuracy: 0.9295\n",
      "Epoch 2/10\n",
      "1875/1875 [==============================] - 35s 18ms/step - loss: 0.0844 - accuracy: 0.9766\n",
      "Epoch 3/10\n",
      "1875/1875 [==============================] - 43s 23ms/step - loss: 0.0583 - accuracy: 0.98360s -\n",
      "Epoch 4/10\n",
      "1875/1875 [==============================] - 39s 21ms/step - loss: 0.0425 - accuracy: 0.9883\n",
      "Epoch 5/10\n",
      "1875/1875 [==============================] - 33s 17ms/step - loss: 0.0335 - accuracy: 0.9905\n",
      "Epoch 6/10\n",
      "1875/1875 [==============================] - 33s 17ms/step - loss: 0.0275 - accuracy: 0.9923\n",
      "Epoch 7/10\n",
      "1875/1875 [==============================] - 33s 18ms/step - loss: 0.0228 - accuracy: 0.9937\n",
      "Epoch 8/10\n",
      "1875/1875 [==============================] - 33s 18ms/step - loss: 0.0214 - accuracy: 0.9944\n",
      "Epoch 9/10\n",
      "1875/1875 [==============================] - 35s 19ms/step - loss: 0.0184 - accuracy: 0.9949\n",
      "Epoch 10/10\n",
      "1875/1875 [==============================] - 34s 18ms/step - loss: 0.0198 - accuracy: 0.9951\n"
     ]
    },
    {
     "data": {
      "text/plain": [
       "<tensorflow.python.keras.callbacks.History at 0x207710b92e0>"
      ]
     },
     "execution_count": 57,
     "metadata": {},
     "output_type": "execute_result"
    }
   ],
   "source": [
    "# 3. 데이터로 모델을 학습(FIT) 한다.\n",
    "model.fit(독립, 종속, epochs=10)\n",
    "\n",
    "# 정확도 99%로 convolution을 사용하니 보다 정확도가 높아진것을 확인할 수 있다. "
   ]
  },
  {
   "cell_type": "code",
   "execution_count": 58,
   "id": "19528f06",
   "metadata": {},
   "outputs": [
    {
     "data": {
      "text/html": [
       "<div>\n",
       "<style scoped>\n",
       "    .dataframe tbody tr th:only-of-type {\n",
       "        vertical-align: middle;\n",
       "    }\n",
       "\n",
       "    .dataframe tbody tr th {\n",
       "        vertical-align: top;\n",
       "    }\n",
       "\n",
       "    .dataframe thead th {\n",
       "        text-align: right;\n",
       "    }\n",
       "</style>\n",
       "<table border=\"1\" class=\"dataframe\">\n",
       "  <thead>\n",
       "    <tr style=\"text-align: right;\">\n",
       "      <th></th>\n",
       "      <th>0</th>\n",
       "      <th>1</th>\n",
       "      <th>2</th>\n",
       "      <th>3</th>\n",
       "      <th>4</th>\n",
       "      <th>5</th>\n",
       "      <th>6</th>\n",
       "      <th>7</th>\n",
       "      <th>8</th>\n",
       "      <th>9</th>\n",
       "    </tr>\n",
       "  </thead>\n",
       "  <tbody>\n",
       "    <tr>\n",
       "      <th>0</th>\n",
       "      <td>0.0</td>\n",
       "      <td>0.0</td>\n",
       "      <td>0.0</td>\n",
       "      <td>0.0</td>\n",
       "      <td>0.0</td>\n",
       "      <td>1.0</td>\n",
       "      <td>0.0</td>\n",
       "      <td>0.0</td>\n",
       "      <td>0.0</td>\n",
       "      <td>0.0</td>\n",
       "    </tr>\n",
       "    <tr>\n",
       "      <th>1</th>\n",
       "      <td>1.0</td>\n",
       "      <td>0.0</td>\n",
       "      <td>0.0</td>\n",
       "      <td>0.0</td>\n",
       "      <td>0.0</td>\n",
       "      <td>0.0</td>\n",
       "      <td>0.0</td>\n",
       "      <td>0.0</td>\n",
       "      <td>0.0</td>\n",
       "      <td>0.0</td>\n",
       "    </tr>\n",
       "    <tr>\n",
       "      <th>2</th>\n",
       "      <td>0.0</td>\n",
       "      <td>0.0</td>\n",
       "      <td>0.0</td>\n",
       "      <td>0.0</td>\n",
       "      <td>1.0</td>\n",
       "      <td>0.0</td>\n",
       "      <td>0.0</td>\n",
       "      <td>0.0</td>\n",
       "      <td>0.0</td>\n",
       "      <td>0.0</td>\n",
       "    </tr>\n",
       "    <tr>\n",
       "      <th>3</th>\n",
       "      <td>0.0</td>\n",
       "      <td>1.0</td>\n",
       "      <td>0.0</td>\n",
       "      <td>0.0</td>\n",
       "      <td>0.0</td>\n",
       "      <td>0.0</td>\n",
       "      <td>0.0</td>\n",
       "      <td>0.0</td>\n",
       "      <td>0.0</td>\n",
       "      <td>0.0</td>\n",
       "    </tr>\n",
       "    <tr>\n",
       "      <th>4</th>\n",
       "      <td>0.0</td>\n",
       "      <td>0.0</td>\n",
       "      <td>0.0</td>\n",
       "      <td>0.0</td>\n",
       "      <td>0.0</td>\n",
       "      <td>0.0</td>\n",
       "      <td>0.0</td>\n",
       "      <td>0.0</td>\n",
       "      <td>0.0</td>\n",
       "      <td>1.0</td>\n",
       "    </tr>\n",
       "  </tbody>\n",
       "</table>\n",
       "</div>"
      ],
      "text/plain": [
       "     0    1    2    3    4    5    6    7    8    9\n",
       "0  0.0  0.0  0.0  0.0  0.0  1.0  0.0  0.0  0.0  0.0\n",
       "1  1.0  0.0  0.0  0.0  0.0  0.0  0.0  0.0  0.0  0.0\n",
       "2  0.0  0.0  0.0  0.0  1.0  0.0  0.0  0.0  0.0  0.0\n",
       "3  0.0  1.0  0.0  0.0  0.0  0.0  0.0  0.0  0.0  0.0\n",
       "4  0.0  0.0  0.0  0.0  0.0  0.0  0.0  0.0  0.0  1.0"
      ]
     },
     "execution_count": 58,
     "metadata": {},
     "output_type": "execute_result"
    }
   ],
   "source": [
    "# 4. 모델 이용\n",
    "\n",
    "pred = model.predict(독립[0:5])\n",
    "pd.DataFrame(pred).round(2)"
   ]
  },
  {
   "cell_type": "code",
   "execution_count": 60,
   "id": "c94e2839",
   "metadata": {
    "scrolled": true
   },
   "outputs": [
    {
     "name": "stdout",
     "output_type": "stream",
     "text": [
      "Model: \"functional_5\"\n",
      "_________________________________________________________________\n",
      "Layer (type)                 Output Shape              Param #   \n",
      "=================================================================\n",
      "input_3 (InputLayer)         [(None, 28, 28, 1)]       0         \n",
      "_________________________________________________________________\n",
      "conv2d (Conv2D)              (None, 24, 24, 3)         78        \n",
      "_________________________________________________________________\n",
      "conv2d_1 (Conv2D)            (None, 20, 20, 6)         456       \n",
      "_________________________________________________________________\n",
      "flatten_1 (Flatten)          (None, 2400)              0         \n",
      "_________________________________________________________________\n",
      "dense_4 (Dense)              (None, 84)                201684    \n",
      "_________________________________________________________________\n",
      "dense_5 (Dense)              (None, 10)                850       \n",
      "=================================================================\n",
      "Total params: 203,068\n",
      "Trainable params: 203,068\n",
      "Non-trainable params: 0\n",
      "_________________________________________________________________\n"
     ]
    }
   ],
   "source": [
    "model.summary()\n",
    "\n",
    "# Param # = 가중치 개수 "
   ]
  },
  {
   "cell_type": "markdown",
   "id": "4ffc8891",
   "metadata": {},
   "source": [
    "* Flatten 만 했을 경우 가중치 개수\n",
    "\n",
    "<img src='https://user-images.githubusercontent.com/85603111/134462293-64b879e4-1f34-4365-aed9-f75f24a6f8b4.png' width=650>\n",
    "\n",
    "* Convolution layer가 추가된 경우 가중치 개수\n",
    "\n",
    "<img src='https://user-images.githubusercontent.com/85603111/134462135-9bae20b1-20eb-4425-9b87-a77849633c47.png' width=650>\n",
    "\n",
    "-> **Convloution layer로 출력된 특징맵의 개수가 증가**하면, Flatten 이후 입력으로 사용될 데이터의 컬럼수가 증가하고,  \n",
    "이는 컴퓨터가 찾아야하는 **가중치 개수의 증가를 의미**한다.  \n",
    "-> 그래도 도입된 방법이 **POOLING** 이다."
   ]
  },
  {
   "cell_type": "markdown",
   "id": "f7eb4db3",
   "metadata": {},
   "source": [
    "## MaxPool2D\n",
    "\n",
    "* **Pooling** : Flatten 이후 계산해야할 가중치 개수를 작게 하기 위해 입력으로 사용할 컬럼의 수를 조정하는 것이 목적\n",
    "\n",
    "* 코드\n",
    "\n",
    "```python\n",
    "# 2. 모델의 구조를 만든다.\n",
    "X = tf.keras.layers.Input(shape=[28,28,1]) # convolution 연산은 3차원의 관측치를 입력을 받는다.\n",
    "\n",
    "H = tf.keras.layers.Conv2D(3, kernel_size=5, activation='swish')(X) # 3개의 특징맵 = 3채널의 특징맵\n",
    "H = tf.keras.layers.MaxPool2D()(H)\n",
    "H = tf.keras.layers.Conv2D(6, kernel_size=5, activation='swish')(H) # 6개의 특징뱁 = 6채널의 특징맵\n",
    "H = tf.keras.layers.MaxPool2D()(H)\n",
    "\n",
    "# Flatten 코드 : reshape 기능을 모델 내에서 동작시키는 역할\n",
    "H = tf.keras.layers.Flatten()(H) # 표형태로 만든다.\n",
    "\n",
    "H = tf.keras.layers.Dense(84, activation = 'swish')(H)\n",
    "Y = tf.keras.layers.Dense(10, activation ='softmax')(H)\n",
    "model = tf.keras.models.Model(X,Y)\n",
    "model.compile(loss = 'categorical_crossentropy', metrics='accuracy')\n",
    "```\n",
    "* model.summary()\n",
    "\n",
    "<img src='https://user-images.githubusercontent.com/85603111/134463441-ae5c6df0-383e-40af-aaeb-26e1d2a12ab3.png' width=650>"
   ]
  },
  {
   "cell_type": "markdown",
   "id": "1a1d5443",
   "metadata": {},
   "source": [
    "* **원리**   \n",
    " ->사이즈를 절반으로 줄인다.   \n",
    " ->각 영역에서 가장 큰 숫자를 남긴다.\n",
    " ->가장 큰 숫자를 남긴다 하여 MaxPooling 이라 한다.\n",
    "\n",
    "<img src='https://user-images.githubusercontent.com/85603111/134463633-c6b1e30e-945c-4a03-ab89-536180639e4f.png' width = 400 align ='left'>\n",
    "\n",
    "<img src='https://user-images.githubusercontent.com/85603111/134463988-157582e6-3d7c-468b-9288-e30d0f909835.png' width = 400 align ='right'>\n",
    "\n",
    "<img src='https://user-images.githubusercontent.com/85603111/134464397-5b9bbcc9-1ed1-4653-a545-938ac76f0d1e.png' width = 400 align ='left'>"
   ]
  },
  {
   "cell_type": "markdown",
   "id": "7de38c5d",
   "metadata": {},
   "source": [
    "* 전체 코드\n",
    "\n",
    "<img src='https://user-images.githubusercontent.com/85603111/134464526-3973b464-1ccd-4e5c-b8dd-e637ac57e1d7.png' width =550>"
   ]
  },
  {
   "cell_type": "markdown",
   "id": "c9dc055e",
   "metadata": {},
   "source": [
    "### Pooling layer 실습"
   ]
  },
  {
   "cell_type": "code",
   "execution_count": 61,
   "id": "9ea16880",
   "metadata": {},
   "outputs": [],
   "source": [
    "import tensorflow as tf\n",
    "import pandas as pd"
   ]
  },
  {
   "cell_type": "code",
   "execution_count": 62,
   "id": "ff9d6a45",
   "metadata": {},
   "outputs": [
    {
     "name": "stdout",
     "output_type": "stream",
     "text": [
      "(60000, 28, 28, 1) (60000, 10)\n"
     ]
    }
   ],
   "source": [
    "# 1. 과거의 데이터를 준비한다.\n",
    "\n",
    "(독립, 종속),_ = tf.keras.datasets.mnist.load_data()\n",
    "독립 = 독립.reshape(60000, 28, 28, 1)\n",
    "종속 = pd.get_dummies(종속) # 원핫인코딩으로 표형태로 바꿈\n",
    "print(독립.shape, 종속.shape)"
   ]
  },
  {
   "cell_type": "code",
   "execution_count": 63,
   "id": "d35b014d",
   "metadata": {},
   "outputs": [],
   "source": [
    "# 2. 모델의 구조를 만든다. CNN \n",
    "# CNN 의 기본적이 모델 구조이다.\n",
    "\n",
    "X = tf.keras.layers.Input(shape=[28,28,1]) # convolution 연산은 3차원의 관측치를 입력을 받는다.\n",
    "\n",
    "H = tf.keras.layers.Conv2D(3, kernel_size=5, activation='swish')(X) # 3개의 특징맵 = 3채널의 특징맵\n",
    "H = tf.keras.layers.MaxPool2D()(H)\n",
    "H = tf.keras.layers.Conv2D(6, kernel_size=5, activation='swish')(H) # 6개의 특징뱁 = 6채널의 특징맵\n",
    "H = tf.keras.layers.MaxPool2D()(H)\n",
    "\n",
    "# Flatten 코드 : reshape 기능을 모델 내에서 동작시키는 역할\n",
    "H = tf.keras.layers.Flatten()(H) # 표형태로 만든다.\n",
    "\n",
    "H = tf.keras.layers.Dense(84, activation = 'swish')(H)\n",
    "Y = tf.keras.layers.Dense(10, activation ='softmax')(H)\n",
    "model = tf.keras.models.Model(X,Y)\n",
    "model.compile(loss = 'categorical_crossentropy', metrics='accuracy')"
   ]
  },
  {
   "cell_type": "code",
   "execution_count": 64,
   "id": "34d2567d",
   "metadata": {},
   "outputs": [
    {
     "name": "stdout",
     "output_type": "stream",
     "text": [
      "Model: \"functional_7\"\n",
      "_________________________________________________________________\n",
      "Layer (type)                 Output Shape              Param #   \n",
      "=================================================================\n",
      "input_4 (InputLayer)         [(None, 28, 28, 1)]       0         \n",
      "_________________________________________________________________\n",
      "conv2d_2 (Conv2D)            (None, 24, 24, 3)         78        \n",
      "_________________________________________________________________\n",
      "max_pooling2d (MaxPooling2D) (None, 12, 12, 3)         0         \n",
      "_________________________________________________________________\n",
      "conv2d_3 (Conv2D)            (None, 8, 8, 6)           456       \n",
      "_________________________________________________________________\n",
      "max_pooling2d_1 (MaxPooling2 (None, 4, 4, 6)           0         \n",
      "_________________________________________________________________\n",
      "flatten_2 (Flatten)          (None, 96)                0         \n",
      "_________________________________________________________________\n",
      "dense_6 (Dense)              (None, 84)                8148      \n",
      "_________________________________________________________________\n",
      "dense_7 (Dense)              (None, 10)                850       \n",
      "=================================================================\n",
      "Total params: 9,532\n",
      "Trainable params: 9,532\n",
      "Non-trainable params: 0\n",
      "_________________________________________________________________\n"
     ]
    }
   ],
   "source": [
    "model.summary()"
   ]
  },
  {
   "cell_type": "code",
   "execution_count": 65,
   "id": "093a0a80",
   "metadata": {},
   "outputs": [
    {
     "name": "stdout",
     "output_type": "stream",
     "text": [
      "Epoch 1/10\n",
      "1875/1875 [==============================] - 27s 15ms/step - loss: 0.6852 - accuracy: 0.8739\n",
      "Epoch 2/10\n",
      "1875/1875 [==============================] - 28s 15ms/step - loss: 0.1296 - accuracy: 0.9618\n",
      "Epoch 3/10\n",
      "1875/1875 [==============================] - 27s 14ms/step - loss: 0.1040 - accuracy: 0.9694\n",
      "Epoch 4/10\n",
      "1875/1875 [==============================] - 24s 13ms/step - loss: 0.0891 - accuracy: 0.9736\n",
      "Epoch 5/10\n",
      "1875/1875 [==============================] - 22s 12ms/step - loss: 0.0806 - accuracy: 0.9769\n",
      "Epoch 6/10\n",
      "1875/1875 [==============================] - 22s 12ms/step - loss: 0.0781 - accuracy: 0.97790s - loss: 0.0780 - accu\n",
      "Epoch 7/10\n",
      "1875/1875 [==============================] - 22s 12ms/step - loss: 0.0728 - accuracy: 0.9785\n",
      "Epoch 8/10\n",
      "1875/1875 [==============================] - 24s 13ms/step - loss: 0.0689 - accuracy: 0.9803\n",
      "Epoch 9/10\n",
      "1875/1875 [==============================] - 25s 14ms/step - loss: 0.0675 - accuracy: 0.9806\n",
      "Epoch 10/10\n",
      "1875/1875 [==============================] - 23s 13ms/step - loss: 0.0648 - accuracy: 0.9819\n"
     ]
    },
    {
     "data": {
      "text/plain": [
       "<tensorflow.python.keras.callbacks.History at 0x2076f9de460>"
      ]
     },
     "execution_count": 65,
     "metadata": {},
     "output_type": "execute_result"
    }
   ],
   "source": [
    "# 3. 모델 학습하기\n",
    "\n",
    "model.fit(독립, 종속, epochs= 10)"
   ]
  },
  {
   "cell_type": "markdown",
   "id": "f365a28c",
   "metadata": {},
   "source": [
    "# Lenet (CNN)\n",
    "\n",
    "* C1, C3 : convolution layer\n",
    "* S2, S4 : MaxPooling\n",
    "* Flatten\n",
    "* C5 : Hiddien layer\n",
    "* F6 : Hidden layer\n",
    "\n",
    "<img src='https://user-images.githubusercontent.com/85603111/134465550-3270c1cf-5639-4249-9ddf-d12372053729.png' width=750>\n",
    "\n",
    "* padding = 'same' : 특징맵의 사이즈가 입력 이미지와 동일한 크기로 출력된다.\n",
    "\n",
    "<img src='https://user-images.githubusercontent.com/85603111/134473977-9c027432-c4ea-4da9-b2e7-6995446fd87b.png' width=700>\n",
    "\n",
    "* model.summary()\n",
    "<img src='https://user-images.githubusercontent.com/85603111/134474302-aa8c915f-6fe9-4211-af52-a08d4f6473c0.png' width=700>"
   ]
  },
  {
   "cell_type": "markdown",
   "id": "c95152cb",
   "metadata": {},
   "source": [
    "## LeNet 5 모델 실습"
   ]
  },
  {
   "cell_type": "markdown",
   "id": "6daaad85",
   "metadata": {},
   "source": [
    "### MNIST data"
   ]
  },
  {
   "cell_type": "code",
   "execution_count": 66,
   "id": "a33d7b22",
   "metadata": {},
   "outputs": [],
   "source": [
    "import tensorflow as tf\n",
    "import pandas as pd"
   ]
  },
  {
   "cell_type": "code",
   "execution_count": 67,
   "id": "ab5aa3e7",
   "metadata": {},
   "outputs": [
    {
     "name": "stdout",
     "output_type": "stream",
     "text": [
      "(60000, 28, 28, 1) (60000, 10)\n"
     ]
    }
   ],
   "source": [
    "# 1. 데이터 준비하기\n",
    "\n",
    "(독립, 종속),_ = tf.keras.datasets.mnist.load_data()\n",
    "독립 = 독립.reshape(60000, 28, 28, 1)\n",
    "종속 = pd.get_dummies(종속)\n",
    "print(독립.shape, 종속.shape)"
   ]
  },
  {
   "cell_type": "code",
   "execution_count": 68,
   "id": "b8418f64",
   "metadata": {},
   "outputs": [],
   "source": [
    "# 2. 모델의 구조를 만든다.\n",
    "X = tf.keras.layers.Input(shape=[28,28,1]) # convolution 연산은 3차원의 관측치를 입력을 받는다.\n",
    "\n",
    "H = tf.keras.layers.Conv2D(6, kernel_size=5, padding='same', activation='swish')(X) # 3개의 특징맵 = 3채널의 특징맵\n",
    "H = tf.keras.layers.MaxPool2D()(H)\n",
    "H = tf.keras.layers.Conv2D(16, kernel_size=5, activation='swish')(H) # 6개의 특징뱁 = 6채널의 특징맵\n",
    "H = tf.keras.layers.MaxPool2D()(H)\n",
    "\n",
    "H = tf.keras.layers.Flatten()(H) # 표형태로 만든다.\n",
    "\n",
    "H = tf.keras.layers.Dense(120, activation = 'swish')(H)\n",
    "H = tf.keras.layers.Dense(84, activation = 'swish')(H)\n",
    "Y = tf.keras.layers.Dense(10, activation ='softmax')(H)\n",
    "\n",
    "model = tf.keras.models.Model(X,Y)\n",
    "model.compile(loss = 'categorical_crossentropy', metrics='accuracy')"
   ]
  },
  {
   "cell_type": "code",
   "execution_count": 69,
   "id": "b0791978",
   "metadata": {},
   "outputs": [
    {
     "name": "stdout",
     "output_type": "stream",
     "text": [
      "Epoch 1/10\n",
      "1875/1875 [==============================] - 42s 22ms/step - loss: 0.2365 - accuracy: 0.9371\n",
      "Epoch 2/10\n",
      "1875/1875 [==============================] - 38s 20ms/step - loss: 0.0862 - accuracy: 0.9772\n",
      "Epoch 3/10\n",
      "1875/1875 [==============================] - 41s 22ms/step - loss: 0.0726 - accuracy: 0.98170s - loss: 0.0727 - accuracy: 0.\n",
      "Epoch 4/10\n",
      "1875/1875 [==============================] - 38s 20ms/step - loss: 0.0693 - accuracy: 0.9830\n",
      "Epoch 5/10\n",
      "1875/1875 [==============================] - 41s 22ms/step - loss: 0.0638 - accuracy: 0.9850\n",
      "Epoch 6/10\n",
      "1875/1875 [==============================] - 41s 22ms/step - loss: 0.0673 - accuracy: 0.98480s - loss:\n",
      "Epoch 7/10\n",
      "1875/1875 [==============================] - 40s 22ms/step - loss: 0.0687 - accuracy: 0.9851\n",
      "Epoch 8/10\n",
      "1875/1875 [==============================] - 42s 22ms/step - loss: 0.0660 - accuracy: 0.9859\n",
      "Epoch 9/10\n",
      "1875/1875 [==============================] - 40s 21ms/step - loss: 0.0736 - accuracy: 0.9855\n",
      "Epoch 10/10\n",
      "1875/1875 [==============================] - 38s 20ms/step - loss: 0.0689 - accuracy: 0.98601s - - ETA: 0s - loss: 0.0689 - accuracy: 0.98\n"
     ]
    },
    {
     "data": {
      "text/plain": [
       "<tensorflow.python.keras.callbacks.History at 0x20703493610>"
      ]
     },
     "execution_count": 69,
     "metadata": {},
     "output_type": "execute_result"
    }
   ],
   "source": [
    "# 3. 모델 학습하기\n",
    "\n",
    "model.fit(독립, 종속, epochs=10)"
   ]
  },
  {
   "cell_type": "markdown",
   "id": "dd699c8f",
   "metadata": {},
   "source": [
    "### CIFAR10 data"
   ]
  },
  {
   "cell_type": "code",
   "execution_count": 70,
   "id": "127b06ee",
   "metadata": {},
   "outputs": [
    {
     "name": "stdout",
     "output_type": "stream",
     "text": [
      "(50000, 32, 32, 3) (50000, 10)\n"
     ]
    }
   ],
   "source": [
    "# 1. 데이터 준비하기\n",
    "\n",
    "(독립, 종속),_ = tf.keras.datasets.cifar10.load_data()\n",
    "종속 = pd.get_dummies(종속.reshape(50000))\n",
    "print(독립.shape, 종속.shape)"
   ]
  },
  {
   "cell_type": "code",
   "execution_count": 71,
   "id": "e98f154a",
   "metadata": {},
   "outputs": [],
   "source": [
    "# 2. 모델의 구조를 만든다.\n",
    "X = tf.keras.layers.Input(shape=[32,32,3]) # convolution 연산은 3차원의 관측치를 입력을 받는다.\n",
    "\n",
    "H = tf.keras.layers.Conv2D(6, kernel_size=5, activation='swish')(X) # 3개의 특징맵 = 3채널의 특징맵\n",
    "H = tf.keras.layers.MaxPool2D()(H)\n",
    "H = tf.keras.layers.Conv2D(16, kernel_size=5, activation='swish')(H) # 6개의 특징뱁 = 6채널의 특징맵\n",
    "H = tf.keras.layers.MaxPool2D()(H)\n",
    "\n",
    "H = tf.keras.layers.Flatten()(H) # 표형태로 만든다.\n",
    "\n",
    "H = tf.keras.layers.Dense(120, activation = 'swish')(H)\n",
    "H = tf.keras.layers.Dense(84, activation = 'swish')(H)\n",
    "Y = tf.keras.layers.Dense(10, activation ='softmax')(H)\n",
    "\n",
    "model = tf.keras.models.Model(X,Y)\n",
    "model.compile(loss = 'categorical_crossentropy', metrics='accuracy')"
   ]
  },
  {
   "cell_type": "code",
   "execution_count": 72,
   "id": "ba555268",
   "metadata": {},
   "outputs": [
    {
     "name": "stdout",
     "output_type": "stream",
     "text": [
      "Epoch 1/5\n",
      "1563/1563 [==============================] - 37s 24ms/step - loss: 2.0095 - accuracy: 0.33893s - loss: - ETA\n",
      "Epoch 2/5\n",
      "1563/1563 [==============================] - 36s 23ms/step - loss: 1.5497 - accuracy: 0.4444\n",
      "Epoch 3/5\n",
      "1563/1563 [==============================] - 48s 30ms/step - loss: 1.4754 - accuracy: 0.4764\n",
      "Epoch 4/5\n",
      "1563/1563 [==============================] - 44s 28ms/step - loss: 1.4253 - accuracy: 0.4970\n",
      "Epoch 5/5\n",
      "1563/1563 [==============================] - 44s 28ms/step - loss: 1.3922 - accuracy: 0.51100s\n"
     ]
    },
    {
     "data": {
      "text/plain": [
       "<tensorflow.python.keras.callbacks.History at 0x207045cdcd0>"
      ]
     },
     "execution_count": 72,
     "metadata": {},
     "output_type": "execute_result"
    }
   ],
   "source": [
    "# 3. 모델 학습하기\n",
    "\n",
    "model.fit(독립, 종속, epochs=5)"
   ]
  },
  {
   "cell_type": "code",
   "execution_count": 73,
   "id": "585801dc",
   "metadata": {},
   "outputs": [
    {
     "name": "stdout",
     "output_type": "stream",
     "text": [
      "Model: \"functional_11\"\n",
      "_________________________________________________________________\n",
      "Layer (type)                 Output Shape              Param #   \n",
      "=================================================================\n",
      "input_6 (InputLayer)         [(None, 32, 32, 3)]       0         \n",
      "_________________________________________________________________\n",
      "conv2d_6 (Conv2D)            (None, 28, 28, 6)         456       \n",
      "_________________________________________________________________\n",
      "max_pooling2d_4 (MaxPooling2 (None, 14, 14, 6)         0         \n",
      "_________________________________________________________________\n",
      "conv2d_7 (Conv2D)            (None, 10, 10, 16)        2416      \n",
      "_________________________________________________________________\n",
      "max_pooling2d_5 (MaxPooling2 (None, 5, 5, 16)          0         \n",
      "_________________________________________________________________\n",
      "flatten_4 (Flatten)          (None, 400)               0         \n",
      "_________________________________________________________________\n",
      "dense_11 (Dense)             (None, 120)               48120     \n",
      "_________________________________________________________________\n",
      "dense_12 (Dense)             (None, 84)                10164     \n",
      "_________________________________________________________________\n",
      "dense_13 (Dense)             (None, 10)                850       \n",
      "=================================================================\n",
      "Total params: 62,006\n",
      "Trainable params: 62,006\n",
      "Non-trainable params: 0\n",
      "_________________________________________________________________\n"
     ]
    }
   ],
   "source": [
    "model.summary()"
   ]
  },
  {
   "cell_type": "code",
   "execution_count": null,
   "id": "f45f261a",
   "metadata": {},
   "outputs": [],
   "source": []
  }
 ],
 "metadata": {
  "kernelspec": {
   "display_name": "Python 3",
   "language": "python",
   "name": "python3"
  },
  "language_info": {
   "codemirror_mode": {
    "name": "ipython",
    "version": 3
   },
   "file_extension": ".py",
   "mimetype": "text/x-python",
   "name": "python",
   "nbconvert_exporter": "python",
   "pygments_lexer": "ipython3",
   "version": "3.8.8"
  },
  "toc": {
   "base_numbering": 1,
   "nav_menu": {},
   "number_sections": true,
   "sideBar": true,
   "skip_h1_title": false,
   "title_cell": "Table of Contents",
   "title_sidebar": "Contents",
   "toc_cell": false,
   "toc_position": {
    "height": "calc(100% - 180px)",
    "left": "10px",
    "top": "150px",
    "width": "284.444px"
   },
   "toc_section_display": true,
   "toc_window_display": true
  },
  "varInspector": {
   "cols": {
    "lenName": 16,
    "lenType": 16,
    "lenVar": 40
   },
   "kernels_config": {
    "python": {
     "delete_cmd_postfix": "",
     "delete_cmd_prefix": "del ",
     "library": "var_list.py",
     "varRefreshCmd": "print(var_dic_list())"
    },
    "r": {
     "delete_cmd_postfix": ") ",
     "delete_cmd_prefix": "rm(",
     "library": "var_list.r",
     "varRefreshCmd": "cat(var_dic_list()) "
    }
   },
   "types_to_exclude": [
    "module",
    "function",
    "builtin_function_or_method",
    "instance",
    "_Feature"
   ],
   "window_display": false
  }
 },
 "nbformat": 4,
 "nbformat_minor": 5
}
